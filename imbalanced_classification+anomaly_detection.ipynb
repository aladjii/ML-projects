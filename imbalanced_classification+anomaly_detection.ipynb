{
  "cells": [
    {
      "cell_type": "markdown",
      "metadata": {
        "id": "MsiB3oacs9BG"
      },
      "source": [
        "В этой тетрадке разберем основные техники работы в задачах, где один из классов занимает существенно меньшую долю выборки, чем остальные."
      ]
    },
    {
      "cell_type": "code",
      "execution_count": null,
      "metadata": {
        "id": "I9SXbBCjs9BH"
      },
      "outputs": [],
      "source": [
        "import numpy as np\n",
        "import pandas as pd\n",
        "pd.set_option('display.max_rows', 100)\n",
        "pd.set_option('display.max_columns', 100)\n",
        "\n",
        "import matplotlib.pyplot as plt\n",
        "import seaborn as sns\n",
        "sns.set(style='whitegrid')\n",
        "\n",
        "import warnings\n",
        "warnings.filterwarnings(\"ignore\")\n",
        "\n",
        "from tqdm import tqdm\n",
        "from sklearn.metrics import precision_recall_curve\n",
        "import torch\n",
        "import torch.nn as nn\n",
        "import torch.optim as optim\n",
        "from torch.utils.data import DataLoader, TensorDataset\n",
        "from torch.optim.lr_scheduler import ReduceLROnPlateau"
      ]
    },
    {
      "cell_type": "markdown",
      "metadata": {
        "id": "5l0VsXHes9BI"
      },
      "source": [
        " EDA"
      ]
    },
    {
      "cell_type": "markdown",
      "metadata": {
        "id": "SIund96us9BI"
      },
      "source": [
        "В качестве данных для нашей работы возьмем выложенный на kaggle датасет транзакций, в котором нужно выискивать мошеннические проводки: [клик](https://www.kaggle.com/mlg-ulb/creditcardfraud). Данная задача по определению подходит под несбалансированную, что можно сказать даже без наличия каких-либо данных (понятно, что среди всех транзакций клиентов очень малая часть будет мошеннической).\n",
        "\n",
        "Загрузим данные, проведем некоторые классические манипуляции."
      ]
    },
    {
      "cell_type": "code",
      "execution_count": null,
      "metadata": {
        "id": "tY2aKqhCs9BJ"
      },
      "outputs": [],
      "source": [
        "\"\"\"%%bash\n",
        "kaggle datasets download -d mlg-ulb/creditcardfraud\n",
        "unzip creditcardfraud.zip\"\"\";"
      ]
    },
    {
      "cell_type": "code",
      "source": [
        "!gdown --id \"1RDNBmC-DO1LoAenN7IhlGJtv-lQK88n-\" && unzip archive.zip"
      ],
      "metadata": {
        "id": "VzrBt8X_mDoW",
        "colab": {
          "base_uri": "https://localhost:8080/"
        },
        "outputId": "a88ad770-4230-4a35-9e7e-16d82c0cc78f"
      },
      "execution_count": null,
      "outputs": [
        {
          "output_type": "stream",
          "name": "stdout",
          "text": [
            "/usr/local/lib/python3.10/dist-packages/gdown/__main__.py:132: FutureWarning: Option `--id` was deprecated in version 4.3.1 and will be removed in 5.0. You don't need to pass it anymore to use a file ID.\n",
            "  warnings.warn(\n",
            "Downloading...\n",
            "From (original): https://drive.google.com/uc?id=1RDNBmC-DO1LoAenN7IhlGJtv-lQK88n-\n",
            "From (redirected): https://drive.google.com/uc?id=1RDNBmC-DO1LoAenN7IhlGJtv-lQK88n-&confirm=t&uuid=e5b6f3bb-91d5-4001-9629-55a18c303f28\n",
            "To: /content/archive.zip\n",
            "100% 69.2M/69.2M [00:01<00:00, 45.4MB/s]\n",
            "Archive:  archive.zip\n",
            "  inflating: creditcard.csv          \n"
          ]
        }
      ]
    },
    {
      "cell_type": "code",
      "execution_count": null,
      "metadata": {
        "id": "5_UPWW51s9BJ"
      },
      "outputs": [],
      "source": [
        "df = pd.read_csv('creditcard.csv')"
      ]
    },
    {
      "cell_type": "code",
      "execution_count": null,
      "metadata": {
        "id": "HpJMyb0Hs9BJ",
        "outputId": "6b8cc1ad-7386-4f41-fed3-c4fe48922a29",
        "colab": {
          "base_uri": "https://localhost:8080/",
          "height": 444
        }
      },
      "outputs": [
        {
          "output_type": "execute_result",
          "data": {
            "text/plain": [
              "            Time         V1         V2        V3        V4        V5  \\\n",
              "0            0.0  -1.359807  -0.072781  2.536347  1.378155 -0.338321   \n",
              "1            0.0   1.191857   0.266151  0.166480  0.448154  0.060018   \n",
              "2            1.0  -1.358354  -1.340163  1.773209  0.379780 -0.503198   \n",
              "3            1.0  -0.966272  -0.185226  1.792993 -0.863291 -0.010309   \n",
              "4            2.0  -1.158233   0.877737  1.548718  0.403034 -0.407193   \n",
              "...          ...        ...        ...       ...       ...       ...   \n",
              "284802  172786.0 -11.881118  10.071785 -9.834783 -2.066656 -5.364473   \n",
              "284803  172787.0  -0.732789  -0.055080  2.035030 -0.738589  0.868229   \n",
              "284804  172788.0   1.919565  -0.301254 -3.249640 -0.557828  2.630515   \n",
              "284805  172788.0  -0.240440   0.530483  0.702510  0.689799 -0.377961   \n",
              "284806  172792.0  -0.533413  -0.189733  0.703337 -0.506271 -0.012546   \n",
              "\n",
              "              V6        V7        V8        V9       V10       V11       V12  \\\n",
              "0       0.462388  0.239599  0.098698  0.363787  0.090794 -0.551600 -0.617801   \n",
              "1      -0.082361 -0.078803  0.085102 -0.255425 -0.166974  1.612727  1.065235   \n",
              "2       1.800499  0.791461  0.247676 -1.514654  0.207643  0.624501  0.066084   \n",
              "3       1.247203  0.237609  0.377436 -1.387024 -0.054952 -0.226487  0.178228   \n",
              "4       0.095921  0.592941 -0.270533  0.817739  0.753074 -0.822843  0.538196   \n",
              "...          ...       ...       ...       ...       ...       ...       ...   \n",
              "284802 -2.606837 -4.918215  7.305334  1.914428  4.356170 -1.593105  2.711941   \n",
              "284803  1.058415  0.024330  0.294869  0.584800 -0.975926 -0.150189  0.915802   \n",
              "284804  3.031260 -0.296827  0.708417  0.432454 -0.484782  0.411614  0.063119   \n",
              "284805  0.623708 -0.686180  0.679145  0.392087 -0.399126 -1.933849 -0.962886   \n",
              "284806 -0.649617  1.577006 -0.414650  0.486180 -0.915427 -1.040458 -0.031513   \n",
              "\n",
              "             V13       V14       V15       V16       V17       V18       V19  \\\n",
              "0      -0.991390 -0.311169  1.468177 -0.470401  0.207971  0.025791  0.403993   \n",
              "1       0.489095 -0.143772  0.635558  0.463917 -0.114805 -0.183361 -0.145783   \n",
              "2       0.717293 -0.165946  2.345865 -2.890083  1.109969 -0.121359 -2.261857   \n",
              "3       0.507757 -0.287924 -0.631418 -1.059647 -0.684093  1.965775 -1.232622   \n",
              "4       1.345852 -1.119670  0.175121 -0.451449 -0.237033 -0.038195  0.803487   \n",
              "...          ...       ...       ...       ...       ...       ...       ...   \n",
              "284802 -0.689256  4.626942 -0.924459  1.107641  1.991691  0.510632 -0.682920   \n",
              "284803  1.214756 -0.675143  1.164931 -0.711757 -0.025693 -1.221179 -1.545556   \n",
              "284804 -0.183699 -0.510602  1.329284  0.140716  0.313502  0.395652 -0.577252   \n",
              "284805 -1.042082  0.449624  1.962563 -0.608577  0.509928  1.113981  2.897849   \n",
              "284806 -0.188093 -0.084316  0.041333 -0.302620 -0.660377  0.167430 -0.256117   \n",
              "\n",
              "             V20       V21       V22       V23       V24       V25       V26  \\\n",
              "0       0.251412 -0.018307  0.277838 -0.110474  0.066928  0.128539 -0.189115   \n",
              "1      -0.069083 -0.225775 -0.638672  0.101288 -0.339846  0.167170  0.125895   \n",
              "2       0.524980  0.247998  0.771679  0.909412 -0.689281 -0.327642 -0.139097   \n",
              "3      -0.208038 -0.108300  0.005274 -0.190321 -1.175575  0.647376 -0.221929   \n",
              "4       0.408542 -0.009431  0.798278 -0.137458  0.141267 -0.206010  0.502292   \n",
              "...          ...       ...       ...       ...       ...       ...       ...   \n",
              "284802  1.475829  0.213454  0.111864  1.014480 -0.509348  1.436807  0.250034   \n",
              "284803  0.059616  0.214205  0.924384  0.012463 -1.016226 -0.606624 -0.395255   \n",
              "284804  0.001396  0.232045  0.578229 -0.037501  0.640134  0.265745 -0.087371   \n",
              "284805  0.127434  0.265245  0.800049 -0.163298  0.123205 -0.569159  0.546668   \n",
              "284806  0.382948  0.261057  0.643078  0.376777  0.008797 -0.473649 -0.818267   \n",
              "\n",
              "             V27       V28  Amount  Class  \n",
              "0       0.133558 -0.021053  149.62      0  \n",
              "1      -0.008983  0.014724    2.69      0  \n",
              "2      -0.055353 -0.059752  378.66      0  \n",
              "3       0.062723  0.061458  123.50      0  \n",
              "4       0.219422  0.215153   69.99      0  \n",
              "...          ...       ...     ...    ...  \n",
              "284802  0.943651  0.823731    0.77      0  \n",
              "284803  0.068472 -0.053527   24.79      0  \n",
              "284804  0.004455 -0.026561   67.88      0  \n",
              "284805  0.108821  0.104533   10.00      0  \n",
              "284806 -0.002415  0.013649  217.00      0  \n",
              "\n",
              "[284807 rows x 31 columns]"
            ],
            "text/html": [
              "\n",
              "  <div id=\"df-b8f05a4c-e5fb-46b4-8f8d-229295d8bfcf\" class=\"colab-df-container\">\n",
              "    <div>\n",
              "<style scoped>\n",
              "    .dataframe tbody tr th:only-of-type {\n",
              "        vertical-align: middle;\n",
              "    }\n",
              "\n",
              "    .dataframe tbody tr th {\n",
              "        vertical-align: top;\n",
              "    }\n",
              "\n",
              "    .dataframe thead th {\n",
              "        text-align: right;\n",
              "    }\n",
              "</style>\n",
              "<table border=\"1\" class=\"dataframe\">\n",
              "  <thead>\n",
              "    <tr style=\"text-align: right;\">\n",
              "      <th></th>\n",
              "      <th>Time</th>\n",
              "      <th>V1</th>\n",
              "      <th>V2</th>\n",
              "      <th>V3</th>\n",
              "      <th>V4</th>\n",
              "      <th>V5</th>\n",
              "      <th>V6</th>\n",
              "      <th>V7</th>\n",
              "      <th>V8</th>\n",
              "      <th>V9</th>\n",
              "      <th>V10</th>\n",
              "      <th>V11</th>\n",
              "      <th>V12</th>\n",
              "      <th>V13</th>\n",
              "      <th>V14</th>\n",
              "      <th>V15</th>\n",
              "      <th>V16</th>\n",
              "      <th>V17</th>\n",
              "      <th>V18</th>\n",
              "      <th>V19</th>\n",
              "      <th>V20</th>\n",
              "      <th>V21</th>\n",
              "      <th>V22</th>\n",
              "      <th>V23</th>\n",
              "      <th>V24</th>\n",
              "      <th>V25</th>\n",
              "      <th>V26</th>\n",
              "      <th>V27</th>\n",
              "      <th>V28</th>\n",
              "      <th>Amount</th>\n",
              "      <th>Class</th>\n",
              "    </tr>\n",
              "  </thead>\n",
              "  <tbody>\n",
              "    <tr>\n",
              "      <th>0</th>\n",
              "      <td>0.0</td>\n",
              "      <td>-1.359807</td>\n",
              "      <td>-0.072781</td>\n",
              "      <td>2.536347</td>\n",
              "      <td>1.378155</td>\n",
              "      <td>-0.338321</td>\n",
              "      <td>0.462388</td>\n",
              "      <td>0.239599</td>\n",
              "      <td>0.098698</td>\n",
              "      <td>0.363787</td>\n",
              "      <td>0.090794</td>\n",
              "      <td>-0.551600</td>\n",
              "      <td>-0.617801</td>\n",
              "      <td>-0.991390</td>\n",
              "      <td>-0.311169</td>\n",
              "      <td>1.468177</td>\n",
              "      <td>-0.470401</td>\n",
              "      <td>0.207971</td>\n",
              "      <td>0.025791</td>\n",
              "      <td>0.403993</td>\n",
              "      <td>0.251412</td>\n",
              "      <td>-0.018307</td>\n",
              "      <td>0.277838</td>\n",
              "      <td>-0.110474</td>\n",
              "      <td>0.066928</td>\n",
              "      <td>0.128539</td>\n",
              "      <td>-0.189115</td>\n",
              "      <td>0.133558</td>\n",
              "      <td>-0.021053</td>\n",
              "      <td>149.62</td>\n",
              "      <td>0</td>\n",
              "    </tr>\n",
              "    <tr>\n",
              "      <th>1</th>\n",
              "      <td>0.0</td>\n",
              "      <td>1.191857</td>\n",
              "      <td>0.266151</td>\n",
              "      <td>0.166480</td>\n",
              "      <td>0.448154</td>\n",
              "      <td>0.060018</td>\n",
              "      <td>-0.082361</td>\n",
              "      <td>-0.078803</td>\n",
              "      <td>0.085102</td>\n",
              "      <td>-0.255425</td>\n",
              "      <td>-0.166974</td>\n",
              "      <td>1.612727</td>\n",
              "      <td>1.065235</td>\n",
              "      <td>0.489095</td>\n",
              "      <td>-0.143772</td>\n",
              "      <td>0.635558</td>\n",
              "      <td>0.463917</td>\n",
              "      <td>-0.114805</td>\n",
              "      <td>-0.183361</td>\n",
              "      <td>-0.145783</td>\n",
              "      <td>-0.069083</td>\n",
              "      <td>-0.225775</td>\n",
              "      <td>-0.638672</td>\n",
              "      <td>0.101288</td>\n",
              "      <td>-0.339846</td>\n",
              "      <td>0.167170</td>\n",
              "      <td>0.125895</td>\n",
              "      <td>-0.008983</td>\n",
              "      <td>0.014724</td>\n",
              "      <td>2.69</td>\n",
              "      <td>0</td>\n",
              "    </tr>\n",
              "    <tr>\n",
              "      <th>2</th>\n",
              "      <td>1.0</td>\n",
              "      <td>-1.358354</td>\n",
              "      <td>-1.340163</td>\n",
              "      <td>1.773209</td>\n",
              "      <td>0.379780</td>\n",
              "      <td>-0.503198</td>\n",
              "      <td>1.800499</td>\n",
              "      <td>0.791461</td>\n",
              "      <td>0.247676</td>\n",
              "      <td>-1.514654</td>\n",
              "      <td>0.207643</td>\n",
              "      <td>0.624501</td>\n",
              "      <td>0.066084</td>\n",
              "      <td>0.717293</td>\n",
              "      <td>-0.165946</td>\n",
              "      <td>2.345865</td>\n",
              "      <td>-2.890083</td>\n",
              "      <td>1.109969</td>\n",
              "      <td>-0.121359</td>\n",
              "      <td>-2.261857</td>\n",
              "      <td>0.524980</td>\n",
              "      <td>0.247998</td>\n",
              "      <td>0.771679</td>\n",
              "      <td>0.909412</td>\n",
              "      <td>-0.689281</td>\n",
              "      <td>-0.327642</td>\n",
              "      <td>-0.139097</td>\n",
              "      <td>-0.055353</td>\n",
              "      <td>-0.059752</td>\n",
              "      <td>378.66</td>\n",
              "      <td>0</td>\n",
              "    </tr>\n",
              "    <tr>\n",
              "      <th>3</th>\n",
              "      <td>1.0</td>\n",
              "      <td>-0.966272</td>\n",
              "      <td>-0.185226</td>\n",
              "      <td>1.792993</td>\n",
              "      <td>-0.863291</td>\n",
              "      <td>-0.010309</td>\n",
              "      <td>1.247203</td>\n",
              "      <td>0.237609</td>\n",
              "      <td>0.377436</td>\n",
              "      <td>-1.387024</td>\n",
              "      <td>-0.054952</td>\n",
              "      <td>-0.226487</td>\n",
              "      <td>0.178228</td>\n",
              "      <td>0.507757</td>\n",
              "      <td>-0.287924</td>\n",
              "      <td>-0.631418</td>\n",
              "      <td>-1.059647</td>\n",
              "      <td>-0.684093</td>\n",
              "      <td>1.965775</td>\n",
              "      <td>-1.232622</td>\n",
              "      <td>-0.208038</td>\n",
              "      <td>-0.108300</td>\n",
              "      <td>0.005274</td>\n",
              "      <td>-0.190321</td>\n",
              "      <td>-1.175575</td>\n",
              "      <td>0.647376</td>\n",
              "      <td>-0.221929</td>\n",
              "      <td>0.062723</td>\n",
              "      <td>0.061458</td>\n",
              "      <td>123.50</td>\n",
              "      <td>0</td>\n",
              "    </tr>\n",
              "    <tr>\n",
              "      <th>4</th>\n",
              "      <td>2.0</td>\n",
              "      <td>-1.158233</td>\n",
              "      <td>0.877737</td>\n",
              "      <td>1.548718</td>\n",
              "      <td>0.403034</td>\n",
              "      <td>-0.407193</td>\n",
              "      <td>0.095921</td>\n",
              "      <td>0.592941</td>\n",
              "      <td>-0.270533</td>\n",
              "      <td>0.817739</td>\n",
              "      <td>0.753074</td>\n",
              "      <td>-0.822843</td>\n",
              "      <td>0.538196</td>\n",
              "      <td>1.345852</td>\n",
              "      <td>-1.119670</td>\n",
              "      <td>0.175121</td>\n",
              "      <td>-0.451449</td>\n",
              "      <td>-0.237033</td>\n",
              "      <td>-0.038195</td>\n",
              "      <td>0.803487</td>\n",
              "      <td>0.408542</td>\n",
              "      <td>-0.009431</td>\n",
              "      <td>0.798278</td>\n",
              "      <td>-0.137458</td>\n",
              "      <td>0.141267</td>\n",
              "      <td>-0.206010</td>\n",
              "      <td>0.502292</td>\n",
              "      <td>0.219422</td>\n",
              "      <td>0.215153</td>\n",
              "      <td>69.99</td>\n",
              "      <td>0</td>\n",
              "    </tr>\n",
              "    <tr>\n",
              "      <th>...</th>\n",
              "      <td>...</td>\n",
              "      <td>...</td>\n",
              "      <td>...</td>\n",
              "      <td>...</td>\n",
              "      <td>...</td>\n",
              "      <td>...</td>\n",
              "      <td>...</td>\n",
              "      <td>...</td>\n",
              "      <td>...</td>\n",
              "      <td>...</td>\n",
              "      <td>...</td>\n",
              "      <td>...</td>\n",
              "      <td>...</td>\n",
              "      <td>...</td>\n",
              "      <td>...</td>\n",
              "      <td>...</td>\n",
              "      <td>...</td>\n",
              "      <td>...</td>\n",
              "      <td>...</td>\n",
              "      <td>...</td>\n",
              "      <td>...</td>\n",
              "      <td>...</td>\n",
              "      <td>...</td>\n",
              "      <td>...</td>\n",
              "      <td>...</td>\n",
              "      <td>...</td>\n",
              "      <td>...</td>\n",
              "      <td>...</td>\n",
              "      <td>...</td>\n",
              "      <td>...</td>\n",
              "      <td>...</td>\n",
              "    </tr>\n",
              "    <tr>\n",
              "      <th>284802</th>\n",
              "      <td>172786.0</td>\n",
              "      <td>-11.881118</td>\n",
              "      <td>10.071785</td>\n",
              "      <td>-9.834783</td>\n",
              "      <td>-2.066656</td>\n",
              "      <td>-5.364473</td>\n",
              "      <td>-2.606837</td>\n",
              "      <td>-4.918215</td>\n",
              "      <td>7.305334</td>\n",
              "      <td>1.914428</td>\n",
              "      <td>4.356170</td>\n",
              "      <td>-1.593105</td>\n",
              "      <td>2.711941</td>\n",
              "      <td>-0.689256</td>\n",
              "      <td>4.626942</td>\n",
              "      <td>-0.924459</td>\n",
              "      <td>1.107641</td>\n",
              "      <td>1.991691</td>\n",
              "      <td>0.510632</td>\n",
              "      <td>-0.682920</td>\n",
              "      <td>1.475829</td>\n",
              "      <td>0.213454</td>\n",
              "      <td>0.111864</td>\n",
              "      <td>1.014480</td>\n",
              "      <td>-0.509348</td>\n",
              "      <td>1.436807</td>\n",
              "      <td>0.250034</td>\n",
              "      <td>0.943651</td>\n",
              "      <td>0.823731</td>\n",
              "      <td>0.77</td>\n",
              "      <td>0</td>\n",
              "    </tr>\n",
              "    <tr>\n",
              "      <th>284803</th>\n",
              "      <td>172787.0</td>\n",
              "      <td>-0.732789</td>\n",
              "      <td>-0.055080</td>\n",
              "      <td>2.035030</td>\n",
              "      <td>-0.738589</td>\n",
              "      <td>0.868229</td>\n",
              "      <td>1.058415</td>\n",
              "      <td>0.024330</td>\n",
              "      <td>0.294869</td>\n",
              "      <td>0.584800</td>\n",
              "      <td>-0.975926</td>\n",
              "      <td>-0.150189</td>\n",
              "      <td>0.915802</td>\n",
              "      <td>1.214756</td>\n",
              "      <td>-0.675143</td>\n",
              "      <td>1.164931</td>\n",
              "      <td>-0.711757</td>\n",
              "      <td>-0.025693</td>\n",
              "      <td>-1.221179</td>\n",
              "      <td>-1.545556</td>\n",
              "      <td>0.059616</td>\n",
              "      <td>0.214205</td>\n",
              "      <td>0.924384</td>\n",
              "      <td>0.012463</td>\n",
              "      <td>-1.016226</td>\n",
              "      <td>-0.606624</td>\n",
              "      <td>-0.395255</td>\n",
              "      <td>0.068472</td>\n",
              "      <td>-0.053527</td>\n",
              "      <td>24.79</td>\n",
              "      <td>0</td>\n",
              "    </tr>\n",
              "    <tr>\n",
              "      <th>284804</th>\n",
              "      <td>172788.0</td>\n",
              "      <td>1.919565</td>\n",
              "      <td>-0.301254</td>\n",
              "      <td>-3.249640</td>\n",
              "      <td>-0.557828</td>\n",
              "      <td>2.630515</td>\n",
              "      <td>3.031260</td>\n",
              "      <td>-0.296827</td>\n",
              "      <td>0.708417</td>\n",
              "      <td>0.432454</td>\n",
              "      <td>-0.484782</td>\n",
              "      <td>0.411614</td>\n",
              "      <td>0.063119</td>\n",
              "      <td>-0.183699</td>\n",
              "      <td>-0.510602</td>\n",
              "      <td>1.329284</td>\n",
              "      <td>0.140716</td>\n",
              "      <td>0.313502</td>\n",
              "      <td>0.395652</td>\n",
              "      <td>-0.577252</td>\n",
              "      <td>0.001396</td>\n",
              "      <td>0.232045</td>\n",
              "      <td>0.578229</td>\n",
              "      <td>-0.037501</td>\n",
              "      <td>0.640134</td>\n",
              "      <td>0.265745</td>\n",
              "      <td>-0.087371</td>\n",
              "      <td>0.004455</td>\n",
              "      <td>-0.026561</td>\n",
              "      <td>67.88</td>\n",
              "      <td>0</td>\n",
              "    </tr>\n",
              "    <tr>\n",
              "      <th>284805</th>\n",
              "      <td>172788.0</td>\n",
              "      <td>-0.240440</td>\n",
              "      <td>0.530483</td>\n",
              "      <td>0.702510</td>\n",
              "      <td>0.689799</td>\n",
              "      <td>-0.377961</td>\n",
              "      <td>0.623708</td>\n",
              "      <td>-0.686180</td>\n",
              "      <td>0.679145</td>\n",
              "      <td>0.392087</td>\n",
              "      <td>-0.399126</td>\n",
              "      <td>-1.933849</td>\n",
              "      <td>-0.962886</td>\n",
              "      <td>-1.042082</td>\n",
              "      <td>0.449624</td>\n",
              "      <td>1.962563</td>\n",
              "      <td>-0.608577</td>\n",
              "      <td>0.509928</td>\n",
              "      <td>1.113981</td>\n",
              "      <td>2.897849</td>\n",
              "      <td>0.127434</td>\n",
              "      <td>0.265245</td>\n",
              "      <td>0.800049</td>\n",
              "      <td>-0.163298</td>\n",
              "      <td>0.123205</td>\n",
              "      <td>-0.569159</td>\n",
              "      <td>0.546668</td>\n",
              "      <td>0.108821</td>\n",
              "      <td>0.104533</td>\n",
              "      <td>10.00</td>\n",
              "      <td>0</td>\n",
              "    </tr>\n",
              "    <tr>\n",
              "      <th>284806</th>\n",
              "      <td>172792.0</td>\n",
              "      <td>-0.533413</td>\n",
              "      <td>-0.189733</td>\n",
              "      <td>0.703337</td>\n",
              "      <td>-0.506271</td>\n",
              "      <td>-0.012546</td>\n",
              "      <td>-0.649617</td>\n",
              "      <td>1.577006</td>\n",
              "      <td>-0.414650</td>\n",
              "      <td>0.486180</td>\n",
              "      <td>-0.915427</td>\n",
              "      <td>-1.040458</td>\n",
              "      <td>-0.031513</td>\n",
              "      <td>-0.188093</td>\n",
              "      <td>-0.084316</td>\n",
              "      <td>0.041333</td>\n",
              "      <td>-0.302620</td>\n",
              "      <td>-0.660377</td>\n",
              "      <td>0.167430</td>\n",
              "      <td>-0.256117</td>\n",
              "      <td>0.382948</td>\n",
              "      <td>0.261057</td>\n",
              "      <td>0.643078</td>\n",
              "      <td>0.376777</td>\n",
              "      <td>0.008797</td>\n",
              "      <td>-0.473649</td>\n",
              "      <td>-0.818267</td>\n",
              "      <td>-0.002415</td>\n",
              "      <td>0.013649</td>\n",
              "      <td>217.00</td>\n",
              "      <td>0</td>\n",
              "    </tr>\n",
              "  </tbody>\n",
              "</table>\n",
              "<p>284807 rows × 31 columns</p>\n",
              "</div>\n",
              "    <div class=\"colab-df-buttons\">\n",
              "\n",
              "  <div class=\"colab-df-container\">\n",
              "    <button class=\"colab-df-convert\" onclick=\"convertToInteractive('df-b8f05a4c-e5fb-46b4-8f8d-229295d8bfcf')\"\n",
              "            title=\"Convert this dataframe to an interactive table.\"\n",
              "            style=\"display:none;\">\n",
              "\n",
              "  <svg xmlns=\"http://www.w3.org/2000/svg\" height=\"24px\" viewBox=\"0 -960 960 960\">\n",
              "    <path d=\"M120-120v-720h720v720H120Zm60-500h600v-160H180v160Zm220 220h160v-160H400v160Zm0 220h160v-160H400v160ZM180-400h160v-160H180v160Zm440 0h160v-160H620v160ZM180-180h160v-160H180v160Zm440 0h160v-160H620v160Z\"/>\n",
              "  </svg>\n",
              "    </button>\n",
              "\n",
              "  <style>\n",
              "    .colab-df-container {\n",
              "      display:flex;\n",
              "      gap: 12px;\n",
              "    }\n",
              "\n",
              "    .colab-df-convert {\n",
              "      background-color: #E8F0FE;\n",
              "      border: none;\n",
              "      border-radius: 50%;\n",
              "      cursor: pointer;\n",
              "      display: none;\n",
              "      fill: #1967D2;\n",
              "      height: 32px;\n",
              "      padding: 0 0 0 0;\n",
              "      width: 32px;\n",
              "    }\n",
              "\n",
              "    .colab-df-convert:hover {\n",
              "      background-color: #E2EBFA;\n",
              "      box-shadow: 0px 1px 2px rgba(60, 64, 67, 0.3), 0px 1px 3px 1px rgba(60, 64, 67, 0.15);\n",
              "      fill: #174EA6;\n",
              "    }\n",
              "\n",
              "    .colab-df-buttons div {\n",
              "      margin-bottom: 4px;\n",
              "    }\n",
              "\n",
              "    [theme=dark] .colab-df-convert {\n",
              "      background-color: #3B4455;\n",
              "      fill: #D2E3FC;\n",
              "    }\n",
              "\n",
              "    [theme=dark] .colab-df-convert:hover {\n",
              "      background-color: #434B5C;\n",
              "      box-shadow: 0px 1px 3px 1px rgba(0, 0, 0, 0.15);\n",
              "      filter: drop-shadow(0px 1px 2px rgba(0, 0, 0, 0.3));\n",
              "      fill: #FFFFFF;\n",
              "    }\n",
              "  </style>\n",
              "\n",
              "    <script>\n",
              "      const buttonEl =\n",
              "        document.querySelector('#df-b8f05a4c-e5fb-46b4-8f8d-229295d8bfcf button.colab-df-convert');\n",
              "      buttonEl.style.display =\n",
              "        google.colab.kernel.accessAllowed ? 'block' : 'none';\n",
              "\n",
              "      async function convertToInteractive(key) {\n",
              "        const element = document.querySelector('#df-b8f05a4c-e5fb-46b4-8f8d-229295d8bfcf');\n",
              "        const dataTable =\n",
              "          await google.colab.kernel.invokeFunction('convertToInteractive',\n",
              "                                                    [key], {});\n",
              "        if (!dataTable) return;\n",
              "\n",
              "        const docLinkHtml = 'Like what you see? Visit the ' +\n",
              "          '<a target=\"_blank\" href=https://colab.research.google.com/notebooks/data_table.ipynb>data table notebook</a>'\n",
              "          + ' to learn more about interactive tables.';\n",
              "        element.innerHTML = '';\n",
              "        dataTable['output_type'] = 'display_data';\n",
              "        await google.colab.output.renderOutput(dataTable, element);\n",
              "        const docLink = document.createElement('div');\n",
              "        docLink.innerHTML = docLinkHtml;\n",
              "        element.appendChild(docLink);\n",
              "      }\n",
              "    </script>\n",
              "  </div>\n",
              "\n",
              "\n",
              "<div id=\"df-022fe274-0a18-4f54-854b-7459d2616ae4\">\n",
              "  <button class=\"colab-df-quickchart\" onclick=\"quickchart('df-022fe274-0a18-4f54-854b-7459d2616ae4')\"\n",
              "            title=\"Suggest charts\"\n",
              "            style=\"display:none;\">\n",
              "\n",
              "<svg xmlns=\"http://www.w3.org/2000/svg\" height=\"24px\"viewBox=\"0 0 24 24\"\n",
              "     width=\"24px\">\n",
              "    <g>\n",
              "        <path d=\"M19 3H5c-1.1 0-2 .9-2 2v14c0 1.1.9 2 2 2h14c1.1 0 2-.9 2-2V5c0-1.1-.9-2-2-2zM9 17H7v-7h2v7zm4 0h-2V7h2v10zm4 0h-2v-4h2v4z\"/>\n",
              "    </g>\n",
              "</svg>\n",
              "  </button>\n",
              "\n",
              "<style>\n",
              "  .colab-df-quickchart {\n",
              "      --bg-color: #E8F0FE;\n",
              "      --fill-color: #1967D2;\n",
              "      --hover-bg-color: #E2EBFA;\n",
              "      --hover-fill-color: #174EA6;\n",
              "      --disabled-fill-color: #AAA;\n",
              "      --disabled-bg-color: #DDD;\n",
              "  }\n",
              "\n",
              "  [theme=dark] .colab-df-quickchart {\n",
              "      --bg-color: #3B4455;\n",
              "      --fill-color: #D2E3FC;\n",
              "      --hover-bg-color: #434B5C;\n",
              "      --hover-fill-color: #FFFFFF;\n",
              "      --disabled-bg-color: #3B4455;\n",
              "      --disabled-fill-color: #666;\n",
              "  }\n",
              "\n",
              "  .colab-df-quickchart {\n",
              "    background-color: var(--bg-color);\n",
              "    border: none;\n",
              "    border-radius: 50%;\n",
              "    cursor: pointer;\n",
              "    display: none;\n",
              "    fill: var(--fill-color);\n",
              "    height: 32px;\n",
              "    padding: 0;\n",
              "    width: 32px;\n",
              "  }\n",
              "\n",
              "  .colab-df-quickchart:hover {\n",
              "    background-color: var(--hover-bg-color);\n",
              "    box-shadow: 0 1px 2px rgba(60, 64, 67, 0.3), 0 1px 3px 1px rgba(60, 64, 67, 0.15);\n",
              "    fill: var(--button-hover-fill-color);\n",
              "  }\n",
              "\n",
              "  .colab-df-quickchart-complete:disabled,\n",
              "  .colab-df-quickchart-complete:disabled:hover {\n",
              "    background-color: var(--disabled-bg-color);\n",
              "    fill: var(--disabled-fill-color);\n",
              "    box-shadow: none;\n",
              "  }\n",
              "\n",
              "  .colab-df-spinner {\n",
              "    border: 2px solid var(--fill-color);\n",
              "    border-color: transparent;\n",
              "    border-bottom-color: var(--fill-color);\n",
              "    animation:\n",
              "      spin 1s steps(1) infinite;\n",
              "  }\n",
              "\n",
              "  @keyframes spin {\n",
              "    0% {\n",
              "      border-color: transparent;\n",
              "      border-bottom-color: var(--fill-color);\n",
              "      border-left-color: var(--fill-color);\n",
              "    }\n",
              "    20% {\n",
              "      border-color: transparent;\n",
              "      border-left-color: var(--fill-color);\n",
              "      border-top-color: var(--fill-color);\n",
              "    }\n",
              "    30% {\n",
              "      border-color: transparent;\n",
              "      border-left-color: var(--fill-color);\n",
              "      border-top-color: var(--fill-color);\n",
              "      border-right-color: var(--fill-color);\n",
              "    }\n",
              "    40% {\n",
              "      border-color: transparent;\n",
              "      border-right-color: var(--fill-color);\n",
              "      border-top-color: var(--fill-color);\n",
              "    }\n",
              "    60% {\n",
              "      border-color: transparent;\n",
              "      border-right-color: var(--fill-color);\n",
              "    }\n",
              "    80% {\n",
              "      border-color: transparent;\n",
              "      border-right-color: var(--fill-color);\n",
              "      border-bottom-color: var(--fill-color);\n",
              "    }\n",
              "    90% {\n",
              "      border-color: transparent;\n",
              "      border-bottom-color: var(--fill-color);\n",
              "    }\n",
              "  }\n",
              "</style>\n",
              "\n",
              "  <script>\n",
              "    async function quickchart(key) {\n",
              "      const quickchartButtonEl =\n",
              "        document.querySelector('#' + key + ' button');\n",
              "      quickchartButtonEl.disabled = true;  // To prevent multiple clicks.\n",
              "      quickchartButtonEl.classList.add('colab-df-spinner');\n",
              "      try {\n",
              "        const charts = await google.colab.kernel.invokeFunction(\n",
              "            'suggestCharts', [key], {});\n",
              "      } catch (error) {\n",
              "        console.error('Error during call to suggestCharts:', error);\n",
              "      }\n",
              "      quickchartButtonEl.classList.remove('colab-df-spinner');\n",
              "      quickchartButtonEl.classList.add('colab-df-quickchart-complete');\n",
              "    }\n",
              "    (() => {\n",
              "      let quickchartButtonEl =\n",
              "        document.querySelector('#df-022fe274-0a18-4f54-854b-7459d2616ae4 button');\n",
              "      quickchartButtonEl.style.display =\n",
              "        google.colab.kernel.accessAllowed ? 'block' : 'none';\n",
              "    })();\n",
              "  </script>\n",
              "</div>\n",
              "    </div>\n",
              "  </div>\n"
            ],
            "application/vnd.google.colaboratory.intrinsic+json": {
              "type": "dataframe",
              "variable_name": "df"
            }
          },
          "metadata": {},
          "execution_count": 5
        }
      ],
      "source": [
        "df"
      ]
    },
    {
      "cell_type": "markdown",
      "metadata": {
        "id": "St9c_rxKs9BK"
      },
      "source": [
        "Наши данные были анонимизированы. Мы имеем 30 признаков, из которых 28 - это результаты PCA-преобразования на исходном датасете. Еще 2 признака представляют собой время в секундах, прошедшее с момента первой транзакции в датасете, и размер транзакции.\n",
        "\n",
        "Найдем долю положительных объектов в выборке"
      ]
    },
    {
      "cell_type": "code",
      "execution_count": null,
      "metadata": {
        "id": "w5P1I6lgs9BL",
        "colab": {
          "base_uri": "https://localhost:8080/"
        },
        "outputId": "cbb6ca50-bcb8-43ba-bc85-8d6147a1dbba"
      },
      "outputs": [
        {
          "output_type": "execute_result",
          "data": {
            "text/plain": [
              "0.001727485630620034"
            ]
          },
          "metadata": {},
          "execution_count": 6
        }
      ],
      "source": [
        "#your code here\n",
        "df['Class'].mean()"
      ]
    },
    {
      "cell_type": "markdown",
      "metadata": {
        "id": "eu2TTGCws9BL"
      },
      "source": [
        "Начнем с обработки времени. Секунды сами по себе не несут большой информации о зависимостях в данных, попробуем по ним создать признаки \"час\" (от 0 до 23) и \"день\" (от 0 до ...)"
      ]
    },
    {
      "cell_type": "code",
      "execution_count": null,
      "metadata": {
        "id": "FW414k0js9BL"
      },
      "outputs": [],
      "source": [
        "#your code here\n",
        "df['Day'] = (df['Time'] // (60 * 60 * 24)).astype(int)\n",
        "df['Hour'] = ((df['Time'] - df['Day']* 60 * 60 * 24) / 3600).astype(int)"
      ]
    },
    {
      "cell_type": "code",
      "source": [
        "df[\"Day\"].value_counts() # 2 дня(0 и 1)"
      ],
      "metadata": {
        "colab": {
          "base_uri": "https://localhost:8080/"
        },
        "id": "8_suzsrvm_Tm",
        "outputId": "d3f466f4-4b21-41ec-ae7a-125230b92771"
      },
      "execution_count": null,
      "outputs": [
        {
          "output_type": "execute_result",
          "data": {
            "text/plain": [
              "Day\n",
              "0    144786\n",
              "1    140021\n",
              "Name: count, dtype: int64"
            ]
          },
          "metadata": {},
          "execution_count": 8
        }
      ]
    },
    {
      "cell_type": "markdown",
      "metadata": {
        "id": "QU5oagixs9BL"
      },
      "source": [
        "Построим следующие графики:\n",
        "\n",
        "1. Распределение числа транзакций по каждому часу\n",
        "2. Распределение доли мошеннических транзакций по каждому часу\n",
        "3. То же самое для дней\n"
      ]
    },
    {
      "cell_type": "code",
      "execution_count": null,
      "metadata": {
        "id": "DGozHHXxs9BM",
        "colab": {
          "base_uri": "https://localhost:8080/",
          "height": 496
        },
        "outputId": "ae351191-5d09-41c8-b396-b4600cc8c931"
      },
      "outputs": [
        {
          "output_type": "display_data",
          "data": {
            "text/plain": [
              "<Figure size 1000x500 with 1 Axes>"
            ],
            "image/png": "[encoded data removed]"
          },
          "metadata": {}
        }
      ],
      "source": [
        "#your code here\n",
        "plt.figure(figsize=(10, 5))\n",
        "plt.title('Распределение числа транзакций по каждому часу')\n",
        "plt.xlabel('Часы')\n",
        "plt.ylabel('Количество транзакций')\n",
        "plt.plot(df.groupby(by='Hour')['Amount'].sum())\n",
        "plt.show()"
      ]
    },
    {
      "cell_type": "code",
      "source": [
        "#your code here\n",
        "plt.figure(figsize=(10, 5))\n",
        "plt.title('Распределение доли мошеннических транзакций по каждому часу')\n",
        "plt.xlabel('Часы')\n",
        "plt.ylabel('Доля мошеннических транзакций')\n",
        "plt.plot(df.groupby(by='Hour')['Class'].mean())\n",
        "plt.show()"
      ],
      "metadata": {
        "colab": {
          "base_uri": "https://localhost:8080/",
          "height": 496
        },
        "id": "SGnpp8OAnPIJ",
        "outputId": "60f05a5e-ebfb-4393-bbad-4f584910357e"
      },
      "execution_count": null,
      "outputs": [
        {
          "output_type": "display_data",
          "data": {
            "text/plain": [
              "<Figure size 1000x500 with 1 Axes>"
            ],
            "image/png": "[encoded data removed]"
          },
          "metadata": {}
        }
      ]
    },
    {
      "cell_type": "code",
      "source": [
        "#your code here\n",
        "plt.figure(figsize=(10, 5))\n",
        "plt.title('Распределение числа транзакций по каждому дню')\n",
        "plt.xlabel('День')\n",
        "plt.ylabel('Количество транзакций')\n",
        "plot = sns.barplot(y=df.groupby(by='Day')['Amount'].sum(), x = [0, 1], palette=\"pastel\")\n",
        "plt.show()"
      ],
      "metadata": {
        "colab": {
          "base_uri": "https://localhost:8080/",
          "height": 496
        },
        "id": "aOg_K94eneoC",
        "outputId": "8776f747-6b86-49d8-c9b5-da084b0b6e86"
      },
      "execution_count": null,
      "outputs": [
        {
          "output_type": "display_data",
          "data": {
            "text/plain": [
              "<Figure size 1000x500 with 1 Axes>"
            ],
            "image/png": "[encoded data removed]"
          },
          "metadata": {}
        }
      ]
    },
    {
      "cell_type": "code",
      "source": [
        "#your code here\n",
        "plt.figure(figsize=(10, 5))\n",
        "plt.title('Распределение доли мошеннических транзакций по каждому дню')\n",
        "plt.xlabel('День')\n",
        "plt.ylabel('Доля мошеннических транзакций')\n",
        "plot = sns.barplot(y=df.groupby(by='Day')['Class'].mean(), x = [0, 1], palette=\"pastel\")\n",
        "plt.show()"
      ],
      "metadata": {
        "colab": {
          "base_uri": "https://localhost:8080/",
          "height": 496
        },
        "id": "Rql5UoJyosa9",
        "outputId": "0718d97d-edb0-48de-c2d1-6848e9fd269d"
      },
      "execution_count": null,
      "outputs": [
        {
          "output_type": "display_data",
          "data": {
            "text/plain": [
              "<Figure size 1000x500 with 1 Axes>"
            ],
            "image/png": "[encoded data removed]"
          },
          "metadata": {}
        }
      ]
    },
    {
      "cell_type": "code",
      "source": [
        "df[\"Hour\"].value_counts()"
      ],
      "metadata": {
        "colab": {
          "base_uri": "https://localhost:8080/"
        },
        "id": "uy2DZbX0ssBv",
        "outputId": "5b53a475-d7c9-473c-ec64-558fc9eea6c7"
      },
      "execution_count": null,
      "outputs": [
        {
          "output_type": "execute_result",
          "data": {
            "text/plain": [
              "Hour\n",
              "21    17703\n",
              "18    17039\n",
              "11    16856\n",
              "20    16756\n",
              "10    16598\n",
              "14    16570\n",
              "15    16461\n",
              "16    16453\n",
              "17    16166\n",
              "9     15838\n",
              "19    15649\n",
              "22    15441\n",
              "12    15420\n",
              "13    15365\n",
              "23    10938\n",
              "8     10276\n",
              "0      7695\n",
              "7      7243\n",
              "1      4220\n",
              "6      4101\n",
              "3      3492\n",
              "2      3328\n",
              "5      2990\n",
              "4      2209\n",
              "Name: count, dtype: int64"
            ]
          },
          "metadata": {},
          "execution_count": 13
        }
      ]
    },
    {
      "cell_type": "markdown",
      "source": [
        " большинство транзакций совершенно с 8 до 19 -  рабочий день. Мошеннические транзакции, наоборот, в основном ведутся в нерабочее время. Число мошеннических операций пропорционально числу операций всего."
      ],
      "metadata": {
        "id": "jKcz1t0Co8wT"
      }
    },
    {
      "cell_type": "markdown",
      "metadata": {
        "id": "kl7hLlhBs9BM"
      },
      "source": [
        "С анонимизированными признаками вряд ли можно придумать что-то интересное. Попробуйте (например, с помощью корреляции?) выбрать несколько наиболее важных признаков и поглядеть на различия в их распределении для разных классов."
      ]
    },
    {
      "cell_type": "code",
      "execution_count": null,
      "metadata": {
        "id": "UfFy6Qhys9BM",
        "colab": {
          "base_uri": "https://localhost:8080/",
          "height": 727
        },
        "outputId": "de9533bd-bb74-4103-f790-7bdbf0769790"
      },
      "outputs": [
        {
          "output_type": "display_data",
          "data": {
            "text/plain": [
              "<Figure size 1000x800 with 1 Axes>"
            ],
            "image/png": "[encoded data removed]"
          },
          "metadata": {}
        }
      ],
      "source": [
        "#your code here\n",
        "features = (list(df.columns))\n",
        "features.remove('Class')\n",
        "plt.figure(figsize=(10, 8))\n",
        "plt.title('Корреляции признаков')\n",
        "plt.xlabel('Corr')\n",
        "plt.ylabel(\"Feature\")\n",
        "corrs = df[features].corrwith(df['Class']).sort_values(ascending=False)\n",
        "plot = sns.barplot(y=corrs.index, x=corrs)"
      ]
    },
    {
      "cell_type": "markdown",
      "source": [
        "Видим, что наибольшую корреляцию с таргетом у нас имеют следующие переменные."
      ],
      "metadata": {
        "id": "gpMngUZ8t-HH"
      }
    },
    {
      "cell_type": "code",
      "source": [
        "features_corr = abs(corrs).sort_values(ascending=False)[:4]\n",
        "features_corr.index.tolist()"
      ],
      "metadata": {
        "colab": {
          "base_uri": "https://localhost:8080/"
        },
        "id": "EXTMdAdOuEzx",
        "outputId": "e779b28e-a945-4663-f35a-058d088a57ec"
      },
      "execution_count": null,
      "outputs": [
        {
          "output_type": "execute_result",
          "data": {
            "text/plain": [
              "['V17', 'V14', 'V12', 'V10']"
            ]
          },
          "metadata": {},
          "execution_count": 15
        }
      ]
    },
    {
      "cell_type": "code",
      "source": [
        "fig, axs = plt.subplots(4, 2, figsize=(10, 15))\n",
        "titles = features_corr.index.tolist()\n",
        "\n",
        "for i in range(4):\n",
        "    for j in range(2):\n",
        "        data = df[df[\"Class\"] == j][titles[i]]\n",
        "        axs[i, j].hist(data, bins=20, color='skyblue', edgecolor='black')\n",
        "        axs[i, j].set_title(f'{titles[i]} (Target = {j})')\n",
        "\n",
        "plt.tight_layout()\n",
        "plt.show()\n"
      ],
      "metadata": {
        "colab": {
          "base_uri": "https://localhost:8080/",
          "height": 1000
        },
        "id": "tBqz1P3YuZMg",
        "outputId": "962ab88e-844c-4f3a-ec5d-b14eb0cb42e8"
      },
      "execution_count": null,
      "outputs": [
        {
          "output_type": "display_data",
          "data": {
            "text/plain": [
              "<Figure size 1000x1500 with 8 Axes>"
            ],
            "image/png": "[encoded data removed]"
          },
          "metadata": {}
        }
      ]
    },
    {
      "cell_type": "markdown",
      "source": [
        "Ну тут явно видим различие между значениями признаков для классов 0 и 1. Для мошеннических операций признаки принимают совершенно разные значения на большом промедутке значений, а для обычных - в основном около нуля и слабо расплывается по оси - короче дисперсия меньше"
      ],
      "metadata": {
        "id": "fIdSxmx1v3PC"
      }
    },
    {
      "cell_type": "markdown",
      "metadata": {
        "id": "CxCb9nars9BM"
      },
      "source": [
        "Теперь давайте разделим данные. Отделим хронологически последние 20% транзакций и поделите их пополам на валидационные и тестовые. Это разбиение не совсем корректно (как можно было заметить, мошеннические транзакции имеют разное распределение во времени - по-хорошему, нам стоило бы выделить целые сутки записей как под валидацию, так и под тест), тем не менее, обойдемся этим."
      ]
    },
    {
      "cell_type": "code",
      "execution_count": null,
      "metadata": {
        "id": "9XXA9XDjs9BN"
      },
      "outputs": [],
      "source": [
        "from sklearn.model_selection import train_test_split\n",
        "y = df[\"Class\"]\n",
        "X = df.drop(columns=[\"Class\", \"Time\", \"Day\"])\n",
        "\n",
        "X_train, X_test, y_train, y_test = train_test_split(X, y, test_size=0.2, shuffle=False)\n",
        "X_val, X_test, y_val, y_test = train_test_split(X_test, y_test, test_size=0.5, shuffle=False)"
      ]
    },
    {
      "cell_type": "code",
      "source": [
        "X_train"
      ],
      "metadata": {
        "colab": {
          "base_uri": "https://localhost:8080/",
          "height": 444
        },
        "id": "IcdvdxPa3bwX",
        "outputId": "87a5b69a-78c7-412e-e2d1-509c2226a0c1"
      },
      "execution_count": null,
      "outputs": [
        {
          "output_type": "execute_result",
          "data": {
            "text/plain": [
              "              V1        V2        V3        V4        V5        V6        V7  \\\n",
              "0      -1.359807 -0.072781  2.536347  1.378155 -0.338321  0.462388  0.239599   \n",
              "1       1.191857  0.266151  0.166480  0.448154  0.060018 -0.082361 -0.078803   \n",
              "2      -1.358354 -1.340163  1.773209  0.379780 -0.503198  1.800499  0.791461   \n",
              "3      -0.966272 -0.185226  1.792993 -0.863291 -0.010309  1.247203  0.237609   \n",
              "4      -1.158233  0.877737  1.548718  0.403034 -0.407193  0.095921  0.592941   \n",
              "...          ...       ...       ...       ...       ...       ...       ...   \n",
              "227840  2.028950 -0.374089 -1.268051  0.349127 -0.057977 -0.515489 -0.087045   \n",
              "227841  0.306600  1.116021 -0.047348  3.593785  2.079047  5.748707 -2.059246   \n",
              "227842 -1.781954  2.062680 -3.758871 -1.801001 -0.084365  1.919610 -1.454364   \n",
              "227843 -0.061507  1.024900 -0.170060 -0.263220  0.982164 -1.162749  1.468942   \n",
              "227844  2.050034 -0.103557 -1.204713  0.207198  0.108850 -0.665621  0.073598   \n",
              "\n",
              "              V8        V9       V10       V11       V12       V13       V14  \\\n",
              "0       0.098698  0.363787  0.090794 -0.551600 -0.617801 -0.991390 -0.311169   \n",
              "1       0.085102 -0.255425 -0.166974  1.612727  1.065235  0.489095 -0.143772   \n",
              "2       0.247676 -1.514654  0.207643  0.624501  0.066084  0.717293 -0.165946   \n",
              "3       0.377436 -1.387024 -0.054952 -0.226487  0.178228  0.507757 -0.287924   \n",
              "4      -0.270533  0.817739  0.753074 -0.822843  0.538196  1.345852 -1.119670   \n",
              "...          ...       ...       ...       ...       ...       ...       ...   \n",
              "227840 -0.146316  1.001341  0.007773 -1.307879 -0.003230 -0.684642  0.109699   \n",
              "227841 -1.352120 -1.849240  1.000154 -0.330464 -0.202383 -0.129313  0.713813   \n",
              "227842 -9.825473 -2.073119 -0.005816 -0.644403  0.982035  0.243801  1.541216   \n",
              "227843 -0.648407 -0.157586 -0.764370 -0.442168  0.024224  0.865039 -1.203879   \n",
              "227844 -0.164464  0.303531  0.242471  0.614559  1.016880  0.081998  0.441357   \n",
              "\n",
              "             V15       V16       V17       V18       V19       V20       V21  \\\n",
              "0       1.468177 -0.470401  0.207971  0.025791  0.403993  0.251412 -0.018307   \n",
              "1       0.635558  0.463917 -0.114805 -0.183361 -0.145783 -0.069083 -0.225775   \n",
              "2       2.345865 -2.890083  1.109969 -0.121359 -2.261857  0.524980  0.247998   \n",
              "3      -0.631418 -1.059647 -0.684093  1.965775 -1.232622 -0.208038 -0.108300   \n",
              "4       0.175121 -0.451449 -0.237033 -0.038195  0.803487  0.408542 -0.009431   \n",
              "...          ...       ...       ...       ...       ...       ...       ...   \n",
              "227840 -0.461828 -0.330118 -0.087021 -0.437197  0.222290 -0.194318  0.047287   \n",
              "227841  1.309414  0.399616  0.038217 -0.097967  0.632624  0.865457 -1.458527   \n",
              "227842 -1.949005 -1.278610 -0.179722  1.616439 -0.740407 -0.690810  1.234747   \n",
              "227843  0.627917 -0.103494  0.238910  0.634188 -0.030689  0.035225  0.299618   \n",
              "227844 -0.635926  0.203137 -0.682642 -0.251580  0.582943 -0.201782 -0.263799   \n",
              "\n",
              "             V22       V23       V24       V25       V26       V27       V28  \\\n",
              "0       0.277838 -0.110474  0.066928  0.128539 -0.189115  0.133558 -0.021053   \n",
              "1      -0.638672  0.101288 -0.339846  0.167170  0.125895 -0.008983  0.014724   \n",
              "2       0.771679  0.909412 -0.689281 -0.327642 -0.139097 -0.055353 -0.059752   \n",
              "3       0.005274 -0.190321 -1.175575  0.647376 -0.221929  0.062723  0.061458   \n",
              "4       0.798278 -0.137458  0.141267 -0.206010  0.502292  0.219422  0.215153   \n",
              "...          ...       ...       ...       ...       ...       ...       ...   \n",
              "227840  0.323331  0.080683  0.727965  0.070118  0.723291 -0.083032 -0.061277   \n",
              "227841 -0.234478  0.258831  0.639005 -0.048250  0.144586  0.216385  0.304545   \n",
              "227842  0.376804 -0.339706 -0.216688 -1.555393  0.655873  0.777662  0.272753   \n",
              "227843  1.177722 -0.296209 -0.140335 -0.465171 -0.197933 -0.048916  0.023871   \n",
              "227844 -0.654763  0.280573 -0.405691 -0.274672  0.202719 -0.074529 -0.074279   \n",
              "\n",
              "        Amount  Hour  \n",
              "0       149.62     0  \n",
              "1         2.69     0  \n",
              "2       378.66     0  \n",
              "3       123.50     0  \n",
              "4        69.99     0  \n",
              "...        ...   ...  \n",
              "227840   24.95    16  \n",
              "227841    0.76    16  \n",
              "227842  359.28    16  \n",
              "227843   39.40    16  \n",
              "227844    0.17    16  \n",
              "\n",
              "[227845 rows x 30 columns]"
            ],
            "text/html": [
              "\n",
              "  <div id=\"df-597a24ac-679b-42e5-8873-de119b0b7d1b\" class=\"colab-df-container\">\n",
              "    <div>\n",
              "<style scoped>\n",
              "    .dataframe tbody tr th:only-of-type {\n",
              "        vertical-align: middle;\n",
              "    }\n",
              "\n",
              "    .dataframe tbody tr th {\n",
              "        vertical-align: top;\n",
              "    }\n",
              "\n",
              "    .dataframe thead th {\n",
              "        text-align: right;\n",
              "    }\n",
              "</style>\n",
              "<table border=\"1\" class=\"dataframe\">\n",
              "  <thead>\n",
              "    <tr style=\"text-align: right;\">\n",
              "      <th></th>\n",
              "      <th>V1</th>\n",
              "      <th>V2</th>\n",
              "      <th>V3</th>\n",
              "      <th>V4</th>\n",
              "      <th>V5</th>\n",
              "      <th>V6</th>\n",
              "      <th>V7</th>\n",
              "      <th>V8</th>\n",
              "      <th>V9</th>\n",
              "      <th>V10</th>\n",
              "      <th>V11</th>\n",
              "      <th>V12</th>\n",
              "      <th>V13</th>\n",
              "      <th>V14</th>\n",
              "      <th>V15</th>\n",
              "      <th>V16</th>\n",
              "      <th>V17</th>\n",
              "      <th>V18</th>\n",
              "      <th>V19</th>\n",
              "      <th>V20</th>\n",
              "      <th>V21</th>\n",
              "      <th>V22</th>\n",
              "      <th>V23</th>\n",
              "      <th>V24</th>\n",
              "      <th>V25</th>\n",
              "      <th>V26</th>\n",
              "      <th>V27</th>\n",
              "      <th>V28</th>\n",
              "      <th>Amount</th>\n",
              "      <th>Hour</th>\n",
              "    </tr>\n",
              "  </thead>\n",
              "  <tbody>\n",
              "    <tr>\n",
              "      <th>0</th>\n",
              "      <td>-1.359807</td>\n",
              "      <td>-0.072781</td>\n",
              "      <td>2.536347</td>\n",
              "      <td>1.378155</td>\n",
              "      <td>-0.338321</td>\n",
              "      <td>0.462388</td>\n",
              "      <td>0.239599</td>\n",
              "      <td>0.098698</td>\n",
              "      <td>0.363787</td>\n",
              "      <td>0.090794</td>\n",
              "      <td>-0.551600</td>\n",
              "      <td>-0.617801</td>\n",
              "      <td>-0.991390</td>\n",
              "      <td>-0.311169</td>\n",
              "      <td>1.468177</td>\n",
              "      <td>-0.470401</td>\n",
              "      <td>0.207971</td>\n",
              "      <td>0.025791</td>\n",
              "      <td>0.403993</td>\n",
              "      <td>0.251412</td>\n",
              "      <td>-0.018307</td>\n",
              "      <td>0.277838</td>\n",
              "      <td>-0.110474</td>\n",
              "      <td>0.066928</td>\n",
              "      <td>0.128539</td>\n",
              "      <td>-0.189115</td>\n",
              "      <td>0.133558</td>\n",
              "      <td>-0.021053</td>\n",
              "      <td>149.62</td>\n",
              "      <td>0</td>\n",
              "    </tr>\n",
              "    <tr>\n",
              "      <th>1</th>\n",
              "      <td>1.191857</td>\n",
              "      <td>0.266151</td>\n",
              "      <td>0.166480</td>\n",
              "      <td>0.448154</td>\n",
              "      <td>0.060018</td>\n",
              "      <td>-0.082361</td>\n",
              "      <td>-0.078803</td>\n",
              "      <td>0.085102</td>\n",
              "      <td>-0.255425</td>\n",
              "      <td>-0.166974</td>\n",
              "      <td>1.612727</td>\n",
              "      <td>1.065235</td>\n",
              "      <td>0.489095</td>\n",
              "      <td>-0.143772</td>\n",
              "      <td>0.635558</td>\n",
              "      <td>0.463917</td>\n",
              "      <td>-0.114805</td>\n",
              "      <td>-0.183361</td>\n",
              "      <td>-0.145783</td>\n",
              "      <td>-0.069083</td>\n",
              "      <td>-0.225775</td>\n",
              "      <td>-0.638672</td>\n",
              "      <td>0.101288</td>\n",
              "      <td>-0.339846</td>\n",
              "      <td>0.167170</td>\n",
              "      <td>0.125895</td>\n",
              "      <td>-0.008983</td>\n",
              "      <td>0.014724</td>\n",
              "      <td>2.69</td>\n",
              "      <td>0</td>\n",
              "    </tr>\n",
              "    <tr>\n",
              "      <th>2</th>\n",
              "      <td>-1.358354</td>\n",
              "      <td>-1.340163</td>\n",
              "      <td>1.773209</td>\n",
              "      <td>0.379780</td>\n",
              "      <td>-0.503198</td>\n",
              "      <td>1.800499</td>\n",
              "      <td>0.791461</td>\n",
              "      <td>0.247676</td>\n",
              "      <td>-1.514654</td>\n",
              "      <td>0.207643</td>\n",
              "      <td>0.624501</td>\n",
              "      <td>0.066084</td>\n",
              "      <td>0.717293</td>\n",
              "      <td>-0.165946</td>\n",
              "      <td>2.345865</td>\n",
              "      <td>-2.890083</td>\n",
              "      <td>1.109969</td>\n",
              "      <td>-0.121359</td>\n",
              "      <td>-2.261857</td>\n",
              "      <td>0.524980</td>\n",
              "      <td>0.247998</td>\n",
              "      <td>0.771679</td>\n",
              "      <td>0.909412</td>\n",
              "      <td>-0.689281</td>\n",
              "      <td>-0.327642</td>\n",
              "      <td>-0.139097</td>\n",
              "      <td>-0.055353</td>\n",
              "      <td>-0.059752</td>\n",
              "      <td>378.66</td>\n",
              "      <td>0</td>\n",
              "    </tr>\n",
              "    <tr>\n",
              "      <th>3</th>\n",
              "      <td>-0.966272</td>\n",
              "      <td>-0.185226</td>\n",
              "      <td>1.792993</td>\n",
              "      <td>-0.863291</td>\n",
              "      <td>-0.010309</td>\n",
              "      <td>1.247203</td>\n",
              "      <td>0.237609</td>\n",
              "      <td>0.377436</td>\n",
              "      <td>-1.387024</td>\n",
              "      <td>-0.054952</td>\n",
              "      <td>-0.226487</td>\n",
              "      <td>0.178228</td>\n",
              "      <td>0.507757</td>\n",
              "      <td>-0.287924</td>\n",
              "      <td>-0.631418</td>\n",
              "      <td>-1.059647</td>\n",
              "      <td>-0.684093</td>\n",
              "      <td>1.965775</td>\n",
              "      <td>-1.232622</td>\n",
              "      <td>-0.208038</td>\n",
              "      <td>-0.108300</td>\n",
              "      <td>0.005274</td>\n",
              "      <td>-0.190321</td>\n",
              "      <td>-1.175575</td>\n",
              "      <td>0.647376</td>\n",
              "      <td>-0.221929</td>\n",
              "      <td>0.062723</td>\n",
              "      <td>0.061458</td>\n",
              "      <td>123.50</td>\n",
              "      <td>0</td>\n",
              "    </tr>\n",
              "    <tr>\n",
              "      <th>4</th>\n",
              "      <td>-1.158233</td>\n",
              "      <td>0.877737</td>\n",
              "      <td>1.548718</td>\n",
              "      <td>0.403034</td>\n",
              "      <td>-0.407193</td>\n",
              "      <td>0.095921</td>\n",
              "      <td>0.592941</td>\n",
              "      <td>-0.270533</td>\n",
              "      <td>0.817739</td>\n",
              "      <td>0.753074</td>\n",
              "      <td>-0.822843</td>\n",
              "      <td>0.538196</td>\n",
              "      <td>1.345852</td>\n",
              "      <td>-1.119670</td>\n",
              "      <td>0.175121</td>\n",
              "      <td>-0.451449</td>\n",
              "      <td>-0.237033</td>\n",
              "      <td>-0.038195</td>\n",
              "      <td>0.803487</td>\n",
              "      <td>0.408542</td>\n",
              "      <td>-0.009431</td>\n",
              "      <td>0.798278</td>\n",
              "      <td>-0.137458</td>\n",
              "      <td>0.141267</td>\n",
              "      <td>-0.206010</td>\n",
              "      <td>0.502292</td>\n",
              "      <td>0.219422</td>\n",
              "      <td>0.215153</td>\n",
              "      <td>69.99</td>\n",
              "      <td>0</td>\n",
              "    </tr>\n",
              "    <tr>\n",
              "      <th>...</th>\n",
              "      <td>...</td>\n",
              "      <td>...</td>\n",
              "      <td>...</td>\n",
              "      <td>...</td>\n",
              "      <td>...</td>\n",
              "      <td>...</td>\n",
              "      <td>...</td>\n",
              "      <td>...</td>\n",
              "      <td>...</td>\n",
              "      <td>...</td>\n",
              "      <td>...</td>\n",
              "      <td>...</td>\n",
              "      <td>...</td>\n",
              "      <td>...</td>\n",
              "      <td>...</td>\n",
              "      <td>...</td>\n",
              "      <td>...</td>\n",
              "      <td>...</td>\n",
              "      <td>...</td>\n",
              "      <td>...</td>\n",
              "      <td>...</td>\n",
              "      <td>...</td>\n",
              "      <td>...</td>\n",
              "      <td>...</td>\n",
              "      <td>...</td>\n",
              "      <td>...</td>\n",
              "      <td>...</td>\n",
              "      <td>...</td>\n",
              "      <td>...</td>\n",
              "      <td>...</td>\n",
              "    </tr>\n",
              "    <tr>\n",
              "      <th>227840</th>\n",
              "      <td>2.028950</td>\n",
              "      <td>-0.374089</td>\n",
              "      <td>-1.268051</td>\n",
              "      <td>0.349127</td>\n",
              "      <td>-0.057977</td>\n",
              "      <td>-0.515489</td>\n",
              "      <td>-0.087045</td>\n",
              "      <td>-0.146316</td>\n",
              "      <td>1.001341</td>\n",
              "      <td>0.007773</td>\n",
              "      <td>-1.307879</td>\n",
              "      <td>-0.003230</td>\n",
              "      <td>-0.684642</td>\n",
              "      <td>0.109699</td>\n",
              "      <td>-0.461828</td>\n",
              "      <td>-0.330118</td>\n",
              "      <td>-0.087021</td>\n",
              "      <td>-0.437197</td>\n",
              "      <td>0.222290</td>\n",
              "      <td>-0.194318</td>\n",
              "      <td>0.047287</td>\n",
              "      <td>0.323331</td>\n",
              "      <td>0.080683</td>\n",
              "      <td>0.727965</td>\n",
              "      <td>0.070118</td>\n",
              "      <td>0.723291</td>\n",
              "      <td>-0.083032</td>\n",
              "      <td>-0.061277</td>\n",
              "      <td>24.95</td>\n",
              "      <td>16</td>\n",
              "    </tr>\n",
              "    <tr>\n",
              "      <th>227841</th>\n",
              "      <td>0.306600</td>\n",
              "      <td>1.116021</td>\n",
              "      <td>-0.047348</td>\n",
              "      <td>3.593785</td>\n",
              "      <td>2.079047</td>\n",
              "      <td>5.748707</td>\n",
              "      <td>-2.059246</td>\n",
              "      <td>-1.352120</td>\n",
              "      <td>-1.849240</td>\n",
              "      <td>1.000154</td>\n",
              "      <td>-0.330464</td>\n",
              "      <td>-0.202383</td>\n",
              "      <td>-0.129313</td>\n",
              "      <td>0.713813</td>\n",
              "      <td>1.309414</td>\n",
              "      <td>0.399616</td>\n",
              "      <td>0.038217</td>\n",
              "      <td>-0.097967</td>\n",
              "      <td>0.632624</td>\n",
              "      <td>0.865457</td>\n",
              "      <td>-1.458527</td>\n",
              "      <td>-0.234478</td>\n",
              "      <td>0.258831</td>\n",
              "      <td>0.639005</td>\n",
              "      <td>-0.048250</td>\n",
              "      <td>0.144586</td>\n",
              "      <td>0.216385</td>\n",
              "      <td>0.304545</td>\n",
              "      <td>0.76</td>\n",
              "      <td>16</td>\n",
              "    </tr>\n",
              "    <tr>\n",
              "      <th>227842</th>\n",
              "      <td>-1.781954</td>\n",
              "      <td>2.062680</td>\n",
              "      <td>-3.758871</td>\n",
              "      <td>-1.801001</td>\n",
              "      <td>-0.084365</td>\n",
              "      <td>1.919610</td>\n",
              "      <td>-1.454364</td>\n",
              "      <td>-9.825473</td>\n",
              "      <td>-2.073119</td>\n",
              "      <td>-0.005816</td>\n",
              "      <td>-0.644403</td>\n",
              "      <td>0.982035</td>\n",
              "      <td>0.243801</td>\n",
              "      <td>1.541216</td>\n",
              "      <td>-1.949005</td>\n",
              "      <td>-1.278610</td>\n",
              "      <td>-0.179722</td>\n",
              "      <td>1.616439</td>\n",
              "      <td>-0.740407</td>\n",
              "      <td>-0.690810</td>\n",
              "      <td>1.234747</td>\n",
              "      <td>0.376804</td>\n",
              "      <td>-0.339706</td>\n",
              "      <td>-0.216688</td>\n",
              "      <td>-1.555393</td>\n",
              "      <td>0.655873</td>\n",
              "      <td>0.777662</td>\n",
              "      <td>0.272753</td>\n",
              "      <td>359.28</td>\n",
              "      <td>16</td>\n",
              "    </tr>\n",
              "    <tr>\n",
              "      <th>227843</th>\n",
              "      <td>-0.061507</td>\n",
              "      <td>1.024900</td>\n",
              "      <td>-0.170060</td>\n",
              "      <td>-0.263220</td>\n",
              "      <td>0.982164</td>\n",
              "      <td>-1.162749</td>\n",
              "      <td>1.468942</td>\n",
              "      <td>-0.648407</td>\n",
              "      <td>-0.157586</td>\n",
              "      <td>-0.764370</td>\n",
              "      <td>-0.442168</td>\n",
              "      <td>0.024224</td>\n",
              "      <td>0.865039</td>\n",
              "      <td>-1.203879</td>\n",
              "      <td>0.627917</td>\n",
              "      <td>-0.103494</td>\n",
              "      <td>0.238910</td>\n",
              "      <td>0.634188</td>\n",
              "      <td>-0.030689</td>\n",
              "      <td>0.035225</td>\n",
              "      <td>0.299618</td>\n",
              "      <td>1.177722</td>\n",
              "      <td>-0.296209</td>\n",
              "      <td>-0.140335</td>\n",
              "      <td>-0.465171</td>\n",
              "      <td>-0.197933</td>\n",
              "      <td>-0.048916</td>\n",
              "      <td>0.023871</td>\n",
              "      <td>39.40</td>\n",
              "      <td>16</td>\n",
              "    </tr>\n",
              "    <tr>\n",
              "      <th>227844</th>\n",
              "      <td>2.050034</td>\n",
              "      <td>-0.103557</td>\n",
              "      <td>-1.204713</td>\n",
              "      <td>0.207198</td>\n",
              "      <td>0.108850</td>\n",
              "      <td>-0.665621</td>\n",
              "      <td>0.073598</td>\n",
              "      <td>-0.164464</td>\n",
              "      <td>0.303531</td>\n",
              "      <td>0.242471</td>\n",
              "      <td>0.614559</td>\n",
              "      <td>1.016880</td>\n",
              "      <td>0.081998</td>\n",
              "      <td>0.441357</td>\n",
              "      <td>-0.635926</td>\n",
              "      <td>0.203137</td>\n",
              "      <td>-0.682642</td>\n",
              "      <td>-0.251580</td>\n",
              "      <td>0.582943</td>\n",
              "      <td>-0.201782</td>\n",
              "      <td>-0.263799</td>\n",
              "      <td>-0.654763</td>\n",
              "      <td>0.280573</td>\n",
              "      <td>-0.405691</td>\n",
              "      <td>-0.274672</td>\n",
              "      <td>0.202719</td>\n",
              "      <td>-0.074529</td>\n",
              "      <td>-0.074279</td>\n",
              "      <td>0.17</td>\n",
              "      <td>16</td>\n",
              "    </tr>\n",
              "  </tbody>\n",
              "</table>\n",
              "<p>227845 rows × 30 columns</p>\n",
              "</div>\n",
              "    <div class=\"colab-df-buttons\">\n",
              "\n",
              "  <div class=\"colab-df-container\">\n",
              "    <button class=\"colab-df-convert\" onclick=\"convertToInteractive('df-597a24ac-679b-42e5-8873-de119b0b7d1b')\"\n",
              "            title=\"Convert this dataframe to an interactive table.\"\n",
              "            style=\"display:none;\">\n",
              "\n",
              "  <svg xmlns=\"http://www.w3.org/2000/svg\" height=\"24px\" viewBox=\"0 -960 960 960\">\n",
              "    <path d=\"M120-120v-720h720v720H120Zm60-500h600v-160H180v160Zm220 220h160v-160H400v160Zm0 220h160v-160H400v160ZM180-400h160v-160H180v160Zm440 0h160v-160H620v160ZM180-180h160v-160H180v160Zm440 0h160v-160H620v160Z\"/>\n",
              "  </svg>\n",
              "    </button>\n",
              "\n",
              "  <style>\n",
              "    .colab-df-container {\n",
              "      display:flex;\n",
              "      gap: 12px;\n",
              "    }\n",
              "\n",
              "    .colab-df-convert {\n",
              "      background-color: #E8F0FE;\n",
              "      border: none;\n",
              "      border-radius: 50%;\n",
              "      cursor: pointer;\n",
              "      display: none;\n",
              "      fill: #1967D2;\n",
              "      height: 32px;\n",
              "      padding: 0 0 0 0;\n",
              "      width: 32px;\n",
              "    }\n",
              "\n",
              "    .colab-df-convert:hover {\n",
              "      background-color: #E2EBFA;\n",
              "      box-shadow: 0px 1px 2px rgba(60, 64, 67, 0.3), 0px 1px 3px 1px rgba(60, 64, 67, 0.15);\n",
              "      fill: #174EA6;\n",
              "    }\n",
              "\n",
              "    .colab-df-buttons div {\n",
              "      margin-bottom: 4px;\n",
              "    }\n",
              "\n",
              "    [theme=dark] .colab-df-convert {\n",
              "      background-color: #3B4455;\n",
              "      fill: #D2E3FC;\n",
              "    }\n",
              "\n",
              "    [theme=dark] .colab-df-convert:hover {\n",
              "      background-color: #434B5C;\n",
              "      box-shadow: 0px 1px 3px 1px rgba(0, 0, 0, 0.15);\n",
              "      filter: drop-shadow(0px 1px 2px rgba(0, 0, 0, 0.3));\n",
              "      fill: #FFFFFF;\n",
              "    }\n",
              "  </style>\n",
              "\n",
              "    <script>\n",
              "      const buttonEl =\n",
              "        document.querySelector('#df-597a24ac-679b-42e5-8873-de119b0b7d1b button.colab-df-convert');\n",
              "      buttonEl.style.display =\n",
              "        google.colab.kernel.accessAllowed ? 'block' : 'none';\n",
              "\n",
              "      async function convertToInteractive(key) {\n",
              "        const element = document.querySelector('#df-597a24ac-679b-42e5-8873-de119b0b7d1b');\n",
              "        const dataTable =\n",
              "          await google.colab.kernel.invokeFunction('convertToInteractive',\n",
              "                                                    [key], {});\n",
              "        if (!dataTable) return;\n",
              "\n",
              "        const docLinkHtml = 'Like what you see? Visit the ' +\n",
              "          '<a target=\"_blank\" href=https://colab.research.google.com/notebooks/data_table.ipynb>data table notebook</a>'\n",
              "          + ' to learn more about interactive tables.';\n",
              "        element.innerHTML = '';\n",
              "        dataTable['output_type'] = 'display_data';\n",
              "        await google.colab.output.renderOutput(dataTable, element);\n",
              "        const docLink = document.createElement('div');\n",
              "        docLink.innerHTML = docLinkHtml;\n",
              "        element.appendChild(docLink);\n",
              "      }\n",
              "    </script>\n",
              "  </div>\n",
              "\n",
              "\n",
              "<div id=\"df-6f966343-ee99-47e5-9fa1-33dfdabfbb8f\">\n",
              "  <button class=\"colab-df-quickchart\" onclick=\"quickchart('df-6f966343-ee99-47e5-9fa1-33dfdabfbb8f')\"\n",
              "            title=\"Suggest charts\"\n",
              "            style=\"display:none;\">\n",
              "\n",
              "<svg xmlns=\"http://www.w3.org/2000/svg\" height=\"24px\"viewBox=\"0 0 24 24\"\n",
              "     width=\"24px\">\n",
              "    <g>\n",
              "        <path d=\"M19 3H5c-1.1 0-2 .9-2 2v14c0 1.1.9 2 2 2h14c1.1 0 2-.9 2-2V5c0-1.1-.9-2-2-2zM9 17H7v-7h2v7zm4 0h-2V7h2v10zm4 0h-2v-4h2v4z\"/>\n",
              "    </g>\n",
              "</svg>\n",
              "  </button>\n",
              "\n",
              "<style>\n",
              "  .colab-df-quickchart {\n",
              "      --bg-color: #E8F0FE;\n",
              "      --fill-color: #1967D2;\n",
              "      --hover-bg-color: #E2EBFA;\n",
              "      --hover-fill-color: #174EA6;\n",
              "      --disabled-fill-color: #AAA;\n",
              "      --disabled-bg-color: #DDD;\n",
              "  }\n",
              "\n",
              "  [theme=dark] .colab-df-quickchart {\n",
              "      --bg-color: #3B4455;\n",
              "      --fill-color: #D2E3FC;\n",
              "      --hover-bg-color: #434B5C;\n",
              "      --hover-fill-color: #FFFFFF;\n",
              "      --disabled-bg-color: #3B4455;\n",
              "      --disabled-fill-color: #666;\n",
              "  }\n",
              "\n",
              "  .colab-df-quickchart {\n",
              "    background-color: var(--bg-color);\n",
              "    border: none;\n",
              "    border-radius: 50%;\n",
              "    cursor: pointer;\n",
              "    display: none;\n",
              "    fill: var(--fill-color);\n",
              "    height: 32px;\n",
              "    padding: 0;\n",
              "    width: 32px;\n",
              "  }\n",
              "\n",
              "  .colab-df-quickchart:hover {\n",
              "    background-color: var(--hover-bg-color);\n",
              "    box-shadow: 0 1px 2px rgba(60, 64, 67, 0.3), 0 1px 3px 1px rgba(60, 64, 67, 0.15);\n",
              "    fill: var(--button-hover-fill-color);\n",
              "  }\n",
              "\n",
              "  .colab-df-quickchart-complete:disabled,\n",
              "  .colab-df-quickchart-complete:disabled:hover {\n",
              "    background-color: var(--disabled-bg-color);\n",
              "    fill: var(--disabled-fill-color);\n",
              "    box-shadow: none;\n",
              "  }\n",
              "\n",
              "  .colab-df-spinner {\n",
              "    border: 2px solid var(--fill-color);\n",
              "    border-color: transparent;\n",
              "    border-bottom-color: var(--fill-color);\n",
              "    animation:\n",
              "      spin 1s steps(1) infinite;\n",
              "  }\n",
              "\n",
              "  @keyframes spin {\n",
              "    0% {\n",
              "      border-color: transparent;\n",
              "      border-bottom-color: var(--fill-color);\n",
              "      border-left-color: var(--fill-color);\n",
              "    }\n",
              "    20% {\n",
              "      border-color: transparent;\n",
              "      border-left-color: var(--fill-color);\n",
              "      border-top-color: var(--fill-color);\n",
              "    }\n",
              "    30% {\n",
              "      border-color: transparent;\n",
              "      border-left-color: var(--fill-color);\n",
              "      border-top-color: var(--fill-color);\n",
              "      border-right-color: var(--fill-color);\n",
              "    }\n",
              "    40% {\n",
              "      border-color: transparent;\n",
              "      border-right-color: var(--fill-color);\n",
              "      border-top-color: var(--fill-color);\n",
              "    }\n",
              "    60% {\n",
              "      border-color: transparent;\n",
              "      border-right-color: var(--fill-color);\n",
              "    }\n",
              "    80% {\n",
              "      border-color: transparent;\n",
              "      border-right-color: var(--fill-color);\n",
              "      border-bottom-color: var(--fill-color);\n",
              "    }\n",
              "    90% {\n",
              "      border-color: transparent;\n",
              "      border-bottom-color: var(--fill-color);\n",
              "    }\n",
              "  }\n",
              "</style>\n",
              "\n",
              "  <script>\n",
              "    async function quickchart(key) {\n",
              "      const quickchartButtonEl =\n",
              "        document.querySelector('#' + key + ' button');\n",
              "      quickchartButtonEl.disabled = true;  // To prevent multiple clicks.\n",
              "      quickchartButtonEl.classList.add('colab-df-spinner');\n",
              "      try {\n",
              "        const charts = await google.colab.kernel.invokeFunction(\n",
              "            'suggestCharts', [key], {});\n",
              "      } catch (error) {\n",
              "        console.error('Error during call to suggestCharts:', error);\n",
              "      }\n",
              "      quickchartButtonEl.classList.remove('colab-df-spinner');\n",
              "      quickchartButtonEl.classList.add('colab-df-quickchart-complete');\n",
              "    }\n",
              "    (() => {\n",
              "      let quickchartButtonEl =\n",
              "        document.querySelector('#df-6f966343-ee99-47e5-9fa1-33dfdabfbb8f button');\n",
              "      quickchartButtonEl.style.display =\n",
              "        google.colab.kernel.accessAllowed ? 'block' : 'none';\n",
              "    })();\n",
              "  </script>\n",
              "</div>\n",
              "    </div>\n",
              "  </div>\n"
            ],
            "application/vnd.google.colaboratory.intrinsic+json": {
              "type": "dataframe",
              "variable_name": "X_train"
            }
          },
          "metadata": {},
          "execution_count": 18
        }
      ]
    },
    {
      "cell_type": "markdown",
      "metadata": {
        "id": "a06ZUN0Ms9BN"
      },
      "source": [
        "# Несбалансированная классификация."
      ]
    },
    {
      "cell_type": "markdown",
      "metadata": {
        "id": "h6Gaot3Fs9BN"
      },
      "source": [
        "**Метрики качества для несбалансированной классификации**:\n",
        "Классические метрики для качества классификации чаще всего \"ломаются\" на задачах с сильным перекосом.\n",
        "\n",
        "мы можем использовать в таких задачах `AUC-PR` и получать адекватные показатели. Можно сказать, что `AUC-PR` представляет собой матожидание `precision` по распределению, заданному выигрышем в `recall` при смене порога."
      ]
    },
    {
      "cell_type": "code",
      "execution_count": null,
      "metadata": {
        "id": "FN144XVps9BO"
      },
      "outputs": [],
      "source": [
        "# from sklearn.metrics import average_precision_score\n",
        "from sklearn.metrics import precision_recall_curve\n",
        "from sklearn.metrics import auc as gigaauc\n",
        "def average_precision_score(y_true, y_scores):\n",
        "    precision, recall, _ = precision_recall_curve(y_true, y_scores)\n",
        "    return gigaauc(recall, precision)"
      ]
    },
    {
      "cell_type": "markdown",
      "metadata": {
        "id": "haRPLskDs9BO"
      },
      "source": [
        "Тем не менее, существуют и другие, не менее интересные метрики. Одной из таких метрик является коэффициент Каппа Коэна, представляющий собой нормализованную `accuracy`:\n"
      ]
    },
    {
      "cell_type": "code",
      "execution_count": null,
      "metadata": {
        "id": "LC4U_7ays9BO"
      },
      "outputs": [],
      "source": [
        "\n",
        "from sklearn.metrics import cohen_kappa_score"
      ]
    },
    {
      "cell_type": "code",
      "execution_count": null,
      "metadata": {
        "id": "rsKSZScts9BP"
      },
      "outputs": [],
      "source": [
        "\n",
        "from sklearn.metrics import matthews_corrcoef"
      ]
    },
    {
      "cell_type": "markdown",
      "metadata": {
        "id": "GaOHYiZPs9BP"
      },
      "source": [
        "Обратите внимание, что эти метрики вычисляются на бинаризованных предсказаниях, поэтому может иметь смысл дополнительная настройка порога бинаризации."
      ]
    },
    {
      "cell_type": "code",
      "execution_count": null,
      "metadata": {
        "id": "LM_Q37gAs9BQ",
        "colab": {
          "base_uri": "https://localhost:8080/"
        },
        "outputId": "f8958ecc-d5c8-4b40-9bd9-c7fda7845f8d"
      },
      "outputs": [
        {
          "output_type": "stream",
          "name": "stdout",
          "text": [
            "AUC-PR: 0.5003862223938766\n",
            "kappa: 0.0\n",
            "matthews: 0.0\n"
          ]
        }
      ],
      "source": [
        "\n",
        "print(f'AUC-PR: {average_precision_score(y_test, [0]*y_test.shape[0])}')\n",
        "print(f'kappa: {cohen_kappa_score(y_test, [0]*y_test.shape[0])}')\n",
        "print(f'matthews: {matthews_corrcoef(y_test, [0]*y_test.shape[0])}')"
      ]
    },
    {
      "cell_type": "markdown",
      "metadata": {
        "id": "nwryyw3ts9BQ"
      },
      "source": [
        "Давайте запустим бейзлайн-решение для нашей задачи - `catboost` на наших данных"
      ]
    },
    {
      "cell_type": "code",
      "source": [
        "!pip install catboost\n",
        "from catboost import CatBoostClassifier"
      ],
      "metadata": {
        "id": "cwYvswMpyQLN"
      },
      "execution_count": null,
      "outputs": []
    },
    {
      "cell_type": "code",
      "execution_count": null,
      "metadata": {
        "id": "ZFFhboVQs9BR",
        "colab": {
          "base_uri": "https://localhost:8080/"
        },
        "outputId": "5b8cc0ed-46cf-46ef-ff01-443c8cd1fe6e"
      },
      "outputs": [
        {
          "output_type": "execute_result",
          "data": {
            "text/plain": [
              "<catboost.core.CatBoostClassifier at 0x7a02e1a8cee0>"
            ]
          },
          "metadata": {},
          "execution_count": 25
        }
      ],
      "source": [
        "\n",
        "catboost = CatBoostClassifier(use_best_model=True, task_type = \"GPU\")\n",
        "catboost.fit(X_train, y_train, eval_set=(X_val, y_val), verbose=False)"
      ]
    },
    {
      "cell_type": "code",
      "source": [
        "print(f'AUC-PR: {average_precision_score(y_test, catboost.predict_proba(X_test)[..., 1])}')\n",
        "print(f'kappa: {cohen_kappa_score(y_test, catboost.predict(X_test))}')\n",
        "print(f'matthews: {matthews_corrcoef(y_test, catboost.predict(X_test))}')"
      ],
      "metadata": {
        "colab": {
          "base_uri": "https://localhost:8080/"
        },
        "id": "55uvKPEHy7Jg",
        "outputId": "a1a04355-00bc-471a-d5de-a6db7ecb457c"
      },
      "execution_count": null,
      "outputs": [
        {
          "output_type": "stream",
          "name": "stdout",
          "text": [
            "AUC-PR: 0.6775652960343049\n",
            "kappa: 0.7498260790128315\n",
            "matthews: 0.7536088618289372\n"
          ]
        }
      ]
    },
    {
      "cell_type": "markdown",
      "metadata": {
        "id": "slOmV65fs9BR"
      },
      "source": [
        "**Добавим веса в катбуст**"
      ]
    },
    {
      "cell_type": "code",
      "execution_count": null,
      "metadata": {
        "id": "WLVjSc0As9BR",
        "colab": {
          "base_uri": "https://localhost:8080/"
        },
        "outputId": "be591ab0-7b5e-427b-fec9-d02a11186c03"
      },
      "outputs": [
        {
          "output_type": "execute_result",
          "data": {
            "text/plain": [
              "<catboost.core.CatBoostClassifier at 0x7a02e1967e20>"
            ]
          },
          "metadata": {},
          "execution_count": 27
        }
      ],
      "source": [
        "#your code here\n",
        "_, counts = np.unique(y_train, return_counts=True)\n",
        "catboost = CatBoostClassifier(use_best_model=True, scale_pos_weight=counts[0] / counts[1], task_type=\"GPU\")\n",
        "catboost.fit(X_train, y_train, eval_set=(X_val, y_val), verbose=False)"
      ]
    },
    {
      "cell_type": "code",
      "source": [
        "print(f'AUC-PR: {average_precision_score(y_test, catboost.predict_proba(X_test)[..., 1])}')\n",
        "print(f'kappa: {cohen_kappa_score(y_test, catboost.predict(X_test))}')\n",
        "print(f'matthews: {matthews_corrcoef(y_test, catboost.predict(X_test))}')"
      ],
      "metadata": {
        "colab": {
          "base_uri": "https://localhost:8080/"
        },
        "id": "T9KHUk-s0cNN",
        "outputId": "80d2bfac-ab37-4fe9-f727-2411755a65ab"
      },
      "execution_count": null,
      "outputs": [
        {
          "output_type": "stream",
          "name": "stdout",
          "text": [
            "AUC-PR: 0.6886481592471054\n",
            "kappa: 0.15569905875718437\n",
            "matthews: 0.25153591404417874\n"
          ]
        }
      ]
    },
    {
      "cell_type": "markdown",
      "metadata": {
        "id": "qwhhGSVVs9BR"
      },
      "source": [
        "Поскольку данный вес будет являться гиперпараметром метода, было бы опрометчиво остановиться на одном значении. Запустим перебор для этого гиперпараметра на валидационной выборке\n"
      ]
    },
    {
      "cell_type": "code",
      "execution_count": null,
      "metadata": {
        "id": "LluYkXus8OWt",
        "colab": {
          "base_uri": "https://localhost:8080/"
        },
        "outputId": "f5d2e6c2-0033-41f7-c869-ffa7e2c1d3db"
      },
      "outputs": [
        {
          "output_type": "stream",
          "name": "stderr",
          "text": [
            "100%|██████████| 20/20 [03:14<00:00,  9.74s/it]\n"
          ]
        }
      ],
      "source": [
        "#your code here\n",
        "best_scale, best_pr = 0, 0\n",
        "for scale_pos in tqdm(np.linspace(0.5, 200, 20).astype(int)):\n",
        "    catboost = CatBoostClassifier(scale_pos_weight=scale_pos, task_type=\"GPU\")\n",
        "    catboost.fit(X_train, y_train, verbose=False)\n",
        "\n",
        "    pr_auc = average_precision_score(y_val, catboost.predict_proba(X_val)[..., 1])\n",
        "    if pr_auc > best_pr:\n",
        "        best_pr = pr_auc\n",
        "        best_scale = scale_pos"
      ]
    },
    {
      "cell_type": "code",
      "source": [
        "print(best_scale, best_pr)\n",
        "catboost = CatBoostClassifier(scale_pos_weight=best_scale, task_type=\"GPU\")\n",
        "catboost.fit(X_train, y_train, verbose=False)"
      ],
      "metadata": {
        "colab": {
          "base_uri": "https://localhost:8080/"
        },
        "id": "YesNr1yq8BTH",
        "outputId": "efcc55f2-e72f-417e-fdd5-95ee418f7fb8"
      },
      "execution_count": null,
      "outputs": [
        {
          "output_type": "stream",
          "name": "stdout",
          "text": [
            "63 0.8708582138880535\n"
          ]
        },
        {
          "output_type": "execute_result",
          "data": {
            "text/plain": [
              "<catboost.core.CatBoostClassifier at 0x7a02e1967a00>"
            ]
          },
          "metadata": {},
          "execution_count": 30
        }
      ]
    },
    {
      "cell_type": "markdown",
      "source": [
        "Оптимальным получилось придавать гипервес минорному классу"
      ],
      "metadata": {
        "id": "mZiCDK1oMVKa"
      }
    },
    {
      "cell_type": "code",
      "source": [
        "y_prob = catboost.predict_proba(X_val)[..., 1]\n",
        "_, _, thresholds = precision_recall_curve(y_val, y_prob)\n",
        "best_tresh, best_mcc = 0, 0\n",
        "for tresh in thresholds:\n",
        "    y_pred = y_prob > tresh\n",
        "    mcc = matthews_corrcoef(y_val, y_pred)\n",
        "    if mcc > best_mcc:\n",
        "        best_mcc = mcc\n",
        "        best_tresh = tresh"
      ],
      "metadata": {
        "id": "gm37frs_8HLK"
      },
      "execution_count": null,
      "outputs": []
    },
    {
      "cell_type": "code",
      "source": [
        "print(best_tresh, best_mcc)\n",
        "y_proba = catboost.predict_proba(X_test)[..., 1]\n",
        "y_pred = y_proba > best_tresh\n",
        "print(f'AUC-PR: {average_precision_score(y_test, y_proba)}')\n",
        "print(f'kappa: {cohen_kappa_score(y_test, y_pred)}')\n",
        "print(f'matthews: {matthews_corrcoef(y_test, y_pred)}')"
      ],
      "metadata": {
        "colab": {
          "base_uri": "https://localhost:8080/"
        },
        "id": "z0QjS8uG9fAA",
        "outputId": "78f4823a-c163-4c01-85b8-dde6679fb462"
      },
      "execution_count": null,
      "outputs": [
        {
          "output_type": "stream",
          "name": "stdout",
          "text": [
            "0.7713366823353716 0.8793511804320202\n",
            "AUC-PR: 0.7253940314311642\n",
            "kappa: 0.7803305381421477\n",
            "matthews: 0.7824309099074692\n"
          ]
        }
      ]
    },
    {
      "cell_type": "markdown",
      "metadata": {
        "id": "6SaQ-j2Ss9BS"
      },
      "source": [
        "**SMOTE**."
      ]
    },
    {
      "cell_type": "markdown",
      "metadata": {
        "id": "A-dF_oXps9BS"
      },
      "source": [
        "Первый метод, которым мы воспользуемся, называется SMOTE. мы выбираем случайного кандидата среди $k$ ближайших соседей объекта минорного класса, затем берем точку на отрезке между двумя объектами и добавляем в выборку."
      ]
    },
    {
      "cell_type": "code",
      "execution_count": null,
      "metadata": {
        "id": "EcWmeujGs9BS"
      },
      "outputs": [],
      "source": [
        "from imblearn.over_sampling import SMOTE"
      ]
    },
    {
      "cell_type": "code",
      "execution_count": null,
      "metadata": {
        "id": "xm3HED1ms9BT",
        "colab": {
          "base_uri": "https://localhost:8080/"
        },
        "outputId": "85c4e5d7-a39c-4f49-93c1-b096291f69e3"
      },
      "outputs": [
        {
          "output_type": "execute_result",
          "data": {
            "text/plain": [
              "<catboost.core.CatBoostClassifier at 0x7a02e1987700>"
            ]
          },
          "metadata": {},
          "execution_count": 34
        }
      ],
      "source": [
        "smote = SMOTE(random_state = 42)\n",
        "X_train_res, y_train_res = smote.fit_resample(X_train, y_train)\n",
        "catboost = CatBoostClassifier(use_best_model=True, task_type = \"GPU\")\n",
        "catboost.fit(X_train_res, y_train_res, eval_set=(X_val, y_val), verbose=False)"
      ]
    },
    {
      "cell_type": "code",
      "source": [
        "print(f'AUC-PR: {average_precision_score(y_test, catboost.predict_proba(X_test)[..., 1])}')\n",
        "print(f'kappa: {cohen_kappa_score(y_test, catboost.predict(X_test))}')\n",
        "print(f'matthews: {matthews_corrcoef(y_test, catboost.predict(X_test))}')"
      ],
      "metadata": {
        "colab": {
          "base_uri": "https://localhost:8080/"
        },
        "id": "beuq7jyF63_j",
        "outputId": "df96c8a9-62a4-4e98-b434-9d9eb6e06a67"
      },
      "execution_count": null,
      "outputs": [
        {
          "output_type": "stream",
          "name": "stdout",
          "text": [
            "AUC-PR: 0.7361986169879998\n",
            "kappa: 0.6663874946557107\n",
            "matthews: 0.6687173797351023\n"
          ]
        }
      ]
    },
    {
      "cell_type": "code",
      "source": [
        "smote = SMOTE(random_state = 42, sampling_strategy = 0.1)\n",
        "X_train_res, y_train_res = smote.fit_resample(X_train, y_train)\n",
        "print(y_train_res.value_counts(), y_train.value_counts())\n",
        "catboost = CatBoostClassifier(use_best_model=True, task_type = \"GPU\")\n",
        "catboost.fit(X_train_res, y_train_res, eval_set=(X_val, y_val), verbose=False)"
      ],
      "metadata": {
        "colab": {
          "base_uri": "https://localhost:8080/"
        },
        "id": "s9P4qR1x67Rr",
        "outputId": "fe7d6fc6-ed0a-4c41-fb6e-6ff0b98f817a"
      },
      "execution_count": null,
      "outputs": [
        {
          "output_type": "stream",
          "name": "stdout",
          "text": [
            "Class\n",
            "0    227428\n",
            "1     22742\n",
            "Name: count, dtype: int64 Class\n",
            "0    227428\n",
            "1       417\n",
            "Name: count, dtype: int64\n"
          ]
        },
        {
          "output_type": "execute_result",
          "data": {
            "text/plain": [
              "<catboost.core.CatBoostClassifier at 0x7a02a869c460>"
            ]
          },
          "metadata": {},
          "execution_count": 36
        }
      ]
    },
    {
      "cell_type": "code",
      "source": [
        "print(f'AUC-PR: {average_precision_score(y_test, catboost.predict_proba(X_test)[..., 1])}')\n",
        "print(f'kappa: {cohen_kappa_score(y_test, catboost.predict(X_test))}')\n",
        "print(f'matthews: {matthews_corrcoef(y_test, catboost.predict(X_test))}')"
      ],
      "metadata": {
        "colab": {
          "base_uri": "https://localhost:8080/"
        },
        "id": "ok2H97WD7V89",
        "outputId": "f4f5a4d7-a3e0-4fbc-a4b9-413d58f6d717"
      },
      "execution_count": null,
      "outputs": [
        {
          "output_type": "stream",
          "name": "stdout",
          "text": [
            "AUC-PR: 0.772423762827635\n",
            "kappa: 0.7270618976581942\n",
            "matthews: 0.7270618976581941\n"
          ]
        }
      ]
    },
    {
      "cell_type": "code",
      "source": [
        "smote = SMOTE(random_state = 42, sampling_strategy = 0.5)\n",
        "X_train_res, y_train_res = smote.fit_resample(X_train, y_train)\n",
        "print(y_train_res.value_counts(), y_train.value_counts())\n",
        "catboost = CatBoostClassifier(use_best_model=True, task_type = \"GPU\")\n",
        "catboost.fit(X_train_res, y_train_res, eval_set=(X_val, y_val), verbose=False)"
      ],
      "metadata": {
        "colab": {
          "base_uri": "https://localhost:8080/"
        },
        "id": "K052HcCG7W21",
        "outputId": "d91df6d3-7a90-43bc-d581-670499247cd1"
      },
      "execution_count": null,
      "outputs": [
        {
          "output_type": "stream",
          "name": "stdout",
          "text": [
            "Class\n",
            "0    227428\n",
            "1    113714\n",
            "Name: count, dtype: int64 Class\n",
            "0    227428\n",
            "1       417\n",
            "Name: count, dtype: int64\n"
          ]
        },
        {
          "output_type": "execute_result",
          "data": {
            "text/plain": [
              "<catboost.core.CatBoostClassifier at 0x7a02a86d7df0>"
            ]
          },
          "metadata": {},
          "execution_count": 38
        }
      ]
    },
    {
      "cell_type": "code",
      "source": [
        "print(f'AUC-PR: {average_precision_score(y_test, catboost.predict_proba(X_test)[..., 1])}')\n",
        "print(f'kappa: {cohen_kappa_score(y_test, catboost.predict(X_test))}')\n",
        "print(f'matthews: {matthews_corrcoef(y_test, catboost.predict(X_test))}')"
      ],
      "metadata": {
        "colab": {
          "base_uri": "https://localhost:8080/"
        },
        "id": "1Ton4es97Y12",
        "outputId": "f1bd7836-55c9-41fa-ad3b-5963ea1829d0"
      },
      "execution_count": null,
      "outputs": [
        {
          "output_type": "stream",
          "name": "stdout",
          "text": [
            "AUC-PR: 0.7372557641054276\n",
            "kappa: 0.6396882805812127\n",
            "matthews: 0.6443525381406625\n"
          ]
        }
      ]
    },
    {
      "cell_type": "markdown",
      "source": [
        "От стратегии сэмплирования метрики довольно сильно шатает. При 0.5 peak."
      ],
      "metadata": {
        "id": "tWAKb5Ps7e_Z"
      }
    },
    {
      "cell_type": "markdown",
      "metadata": {
        "id": "f_3MA21rs9BT"
      },
      "source": [
        " Для vanilla SMOTE существуют некоторые модификации, часть из которых была реализована в библиотеке imblearn.\n",
        "\n",
        "\n",
        "BorderlineSMOTE - в отличие от обычного SMOTE, которые сэмплит по всем миноритарным объектам, эта вариация делает следующее: 1) Определяет граничные точки - у которых есть минорные и мажорные соседи . 2) Определяет среди них шум - точки, у которых большее число соседей - мажорный класс. 3) По оставшимся граничным точкам сэмплит выборку как в Vanilla SMOTE. Таким образом, он сосредоточивается только на тех примерах, которые могут быть сложными для классификации из-за их близости к границе.\n",
        "\n",
        "SVM-SMOTE - использует SVM для определения границы между классами и затем применяет vanilla SMOTE для генерации новых примеров вдоль этой границы. Основная идея состоит в том, чтобы использовать информацию о разделяющей границе, полученной из SVM, для более точного генерирования новых примеров, что может помочь улучшить качество классификации.\n",
        "\n",
        "K-Means-SMOTE - объединяет в себе кластеризацию с помощью K-means и обычный SMOTE. Сначала входные данные разбивают на кластеры. Внутри полученных кластеров считается Imbalance Ratio(IR) = число минорных / число мажорных, и если оно больше 1(условно), то мы сэмплируем данные в этом кластере.\n",
        "\n",
        "ADASYN - работает, генерируя синтетические образцы для классов меньшинств на основе пространства признаков исходного набора данных. Он вычисляет плотность распределения каждого образца класса меньшинств и генерирует синтетические образцы в соответствии с плотностью распределения. Такой адаптивный подход позволяет генерировать больше синтетических образцов для миноритарных классов, которые труднее поддаются обучению, что повышает эффективность классификации моделей машинного обучения.\n",
        "\n",
        "Теперь попробуем сравнить качество всех методов на наших данных."
      ]
    },
    {
      "cell_type": "code",
      "execution_count": null,
      "metadata": {
        "id": "cw5hLd-6s9BT",
        "colab": {
          "base_uri": "https://localhost:8080/"
        },
        "outputId": "c220ad7d-1911-4c91-c595-1864e723a370"
      },
      "outputs": [
        {
          "output_type": "stream",
          "name": "stdout",
          "text": [
            "Class\n",
            "0    227428\n",
            "1    227428\n",
            "Name: count, dtype: int64 Class\n",
            "0    227428\n",
            "1       417\n",
            "Name: count, dtype: int64\n",
            "AUC-PR: 0.7271997729786344\n",
            "kappa: 0.6805885875737472\n",
            "matthews: 0.6819815751994611\n"
          ]
        }
      ],
      "source": [
        "from imblearn.over_sampling import BorderlineSMOTE, KMeansSMOTE, SVMSMOTE, ADASYN\n",
        "\n",
        "bord = BorderlineSMOTE(random_state = 42)\n",
        "svm = SVMSMOTE(random_state = 42)\n",
        "ada = ADASYN(random_state = 42)\n",
        "\n",
        "X_train_res, y_train_res = bord.fit_resample(X_train, y_train)\n",
        "print(y_train_res.value_counts(), y_train.value_counts())\n",
        "catboost = CatBoostClassifier(use_best_model=True, task_type = \"GPU\")\n",
        "catboost.fit(X_train_res, y_train_res, eval_set=(X_val, y_val), verbose=False)\n",
        "print(f'AUC-PR: {average_precision_score(y_test, catboost.predict_proba(X_test)[..., 1])}')\n",
        "print(f'kappa: {cohen_kappa_score(y_test, catboost.predict(X_test))}')\n",
        "print(f'matthews: {matthews_corrcoef(y_test, catboost.predict(X_test))}')"
      ]
    },
    {
      "cell_type": "code",
      "source": [
        "kms = KMeansSMOTE(random_state = 42, cluster_balance_threshold = 0)\n",
        "X_train_res, y_train_res = kms.fit_resample(X_train, y_train)\n",
        "catboost = CatBoostClassifier(use_best_model=True, task_type = \"GPU\")\n",
        "catboost.fit(X_train_res, y_train_res, eval_set=(X_val, y_val), verbose=False)\n",
        "print(f'AUC-PR: {average_precision_score(y_test, catboost.predict_proba(X_test)[..., 1])}')\n",
        "print(f'kappa: {cohen_kappa_score(y_test, catboost.predict(X_test))}')\n",
        "print(f'matthews: {matthews_corrcoef(y_test, catboost.predict(X_test))}')"
      ],
      "metadata": {
        "colab": {
          "base_uri": "https://localhost:8080/"
        },
        "id": "9hf-yGK6LRYN",
        "outputId": "d40e32cd-9b61-47d3-e9f5-0b6cc11cf417"
      },
      "execution_count": null,
      "outputs": [
        {
          "output_type": "stream",
          "name": "stdout",
          "text": [
            "AUC-PR: 0.7383428504895486\n",
            "kappa: 0.6936167374627165\n",
            "matthews: 0.6972625201268832\n"
          ]
        }
      ]
    },
    {
      "cell_type": "code",
      "source": [
        "X_train_res, y_train_res = svm.fit_resample(X_train, y_train)\n",
        "catboost = CatBoostClassifier(use_best_model=True, task_type = \"GPU\")\n",
        "catboost.fit(X_train_res, y_train_res, eval_set=(X_val, y_val), verbose=False)\n",
        "print(f'AUC-PR: {average_precision_score(y_test, catboost.predict_proba(X_test)[..., 1])}')\n",
        "print(f'kappa: {cohen_kappa_score(y_test, catboost.predict(X_test))}')\n",
        "print(f'matthews: {matthews_corrcoef(y_test, catboost.predict(X_test))}')"
      ],
      "metadata": {
        "colab": {
          "base_uri": "https://localhost:8080/"
        },
        "id": "vvjzVv8pLXFn",
        "outputId": "44036d83-a877-41b7-e4a6-afdb98549fa4"
      },
      "execution_count": null,
      "outputs": [
        {
          "output_type": "stream",
          "name": "stdout",
          "text": [
            "AUC-PR: 0.7373617823176918\n",
            "kappa: 0.6805885875737472\n",
            "matthews: 0.6819815751994611\n"
          ]
        }
      ]
    },
    {
      "cell_type": "code",
      "source": [
        "X_train_res, y_train_res = ada.fit_resample(X_train, y_train)\n",
        "catboost = CatBoostClassifier(use_best_model=True, task_type = \"GPU\")\n",
        "catboost.fit(X_train_res, y_train_res, eval_set=(X_val, y_val), verbose=False)\n",
        "print(f'AUC-PR: {average_precision_score(y_test, catboost.predict_proba(X_test)[..., 1])}')\n",
        "print(f'kappa: {cohen_kappa_score(y_test, catboost.predict(X_test))}')\n",
        "print(f'matthews: {matthews_corrcoef(y_test, catboost.predict(X_test))}')"
      ],
      "metadata": {
        "colab": {
          "base_uri": "https://localhost:8080/"
        },
        "id": "lbIf3l0vLYaw",
        "outputId": "9e466f58-6ea3-4c9e-a80e-fd28474e1ae2"
      },
      "execution_count": null,
      "outputs": [
        {
          "output_type": "stream",
          "name": "stdout",
          "text": [
            "AUC-PR: 0.7262586470433544\n",
            "kappa: 0.5996536450902364\n",
            "matthews: 0.6040259919536533\n"
          ]
        }
      ]
    },
    {
      "cell_type": "markdown",
      "source": [
        "обычный SMOTE для нашей задачки в среднем по метрикам лучше справился, можно проверить для других соотношений, но мне лень 🤗"
      ],
      "metadata": {
        "id": "LsvFTNn3M6tq"
      }
    },
    {
      "cell_type": "markdown",
      "metadata": {
        "id": "xvVG5osbs9BU"
      },
      "source": [
        "**Андерсэмплинг**."
      ]
    },
    {
      "cell_type": "code",
      "execution_count": null,
      "metadata": {
        "id": "GZQymG9Rs9BU"
      },
      "outputs": [],
      "source": [
        "from imblearn.under_sampling import RandomUnderSampler"
      ]
    },
    {
      "cell_type": "code",
      "execution_count": null,
      "metadata": {
        "id": "ZRysrdxhs9BU",
        "colab": {
          "base_uri": "https://localhost:8080/",
          "height": 1000
        },
        "outputId": "180c1e5f-5f40-43f5-bf8f-1f2403a15e20"
      },
      "outputs": [
        {
          "output_type": "stream",
          "name": "stdout",
          "text": [
            "Class\n",
            "0    227428\n",
            "1       417\n",
            "Name: count, dtype: int64\n",
            "---------\n",
            "Class\n",
            "0    208500\n",
            "1       417\n",
            "Name: count, dtype: int64\n",
            "---------\n",
            "Class\n",
            "0    4170\n",
            "1     417\n",
            "Name: count, dtype: int64\n",
            "---------\n",
            "Class\n",
            "0    834\n",
            "1    417\n",
            "Name: count, dtype: int64\n",
            "---------\n",
            "Class\n",
            "0    556\n",
            "1    417\n",
            "Name: count, dtype: int64\n",
            "---------\n",
            "Class\n",
            "0    417\n",
            "1    417\n",
            "Name: count, dtype: int64\n",
            "---------\n"
          ]
        },
        {
          "output_type": "display_data",
          "data": {
            "text/plain": [
              "<Figure size 1000x600 with 1 Axes>"
            ],
            "image/png": "[encoded data removed]"
          },
          "metadata": {}
        }
      ],
      "source": [
        "catboost = CatBoostClassifier(use_best_model=True, task_type = \"GPU\")\n",
        "balance_ratios = [0.002, 0.1, 0.5, 0.75, 1]\n",
        "print(y_train.value_counts())\n",
        "print(\"---------\")\n",
        "aucs = []\n",
        "kappas = []\n",
        "matthewss = []\n",
        "resample_ratios = []\n",
        "\n",
        "for balance_ratio in balance_ratios:\n",
        "    under_sampler = RandomUnderSampler(sampling_strategy=balance_ratio, random_state=42)\n",
        "    X_train_resampled, y_train_resampled = under_sampler.fit_resample(X_train, y_train)\n",
        "    print(y_train_resampled.value_counts())\n",
        "    print(\"---------\")\n",
        "\n",
        "    catboost.fit(X_train_resampled, y_train_resampled, eval_set=(X_val, y_val), verbose=False)\n",
        "\n",
        "    aucc = average_precision_score(y_test, catboost.predict_proba(X_test)[..., 1])\n",
        "    kappa = cohen_kappa_score(y_test, catboost.predict(X_test))\n",
        "    matthews = matthews_corrcoef(y_test, catboost.predict(X_test))\n",
        "\n",
        "    aucs.append(aucc)\n",
        "    kappas.append(kappa)\n",
        "    matthewss.append(matthews)\n",
        "    resample_ratios.append(len(X_train_resampled) / len(X_train))\n",
        "\n",
        "\n",
        "plt.figure(figsize=(10, 6))\n",
        "plt.plot(balance_ratios, aucs, label='AUC')\n",
        "plt.plot(balance_ratios, kappas, label='Kappa')\n",
        "plt.plot(balance_ratios, matthewss, label='Matthews')\n",
        "plt.xlabel('Resampled/Original Size Ratio')\n",
        "plt.ylabel('Metrics')\n",
        "plt.title('Metrics vs Resampled/Original Size Ratio')\n",
        "plt.legend()\n",
        "\n",
        "plt.tight_layout()\n",
        "plt.show()"
      ]
    },
    {
      "cell_type": "markdown",
      "source": [
        "Очевидно, что если убирать большую часть выборки качество просядет."
      ],
      "metadata": {
        "id": "SryBq6q7ZguQ"
      }
    },
    {
      "cell_type": "markdown",
      "source": [
        "Tomek Links -  это пары очень близких экземпляров, но относящихся к противоположным классам. Удаление экземпляров большинства классов в каждой паре увеличивает пространство между двумя классами, облегчая процесс классификации.\n"
      ],
      "metadata": {
        "id": "vCFIhNewfF7p"
      }
    },
    {
      "cell_type": "code",
      "execution_count": null,
      "metadata": {
        "id": "RXrq_R_Ks9BV",
        "colab": {
          "base_uri": "https://localhost:8080/"
        },
        "outputId": "5fc7e76b-1106-4388-8005-d21aee28db57"
      },
      "outputs": [
        {
          "output_type": "stream",
          "name": "stdout",
          "text": [
            "AUC-PR: 0.6732596346221652\n",
            "kappa: 0.7498260790128315\n",
            "matthews: 0.7536088618289372\n"
          ]
        }
      ],
      "source": [
        "from imblearn.under_sampling import TomekLinks\n",
        "\n",
        "catboost = CatBoostClassifier(use_best_model=True, task_type=\"GPU\")\n",
        "tomek_links = TomekLinks()\n",
        "X_train_resampled, y_train_resampled = tomek_links.fit_resample(X_train, y_train)\n",
        "\n",
        "catboost.fit(X_train_resampled, y_train_resampled, eval_set=(X_val, y_val), verbose=False)\n",
        "\n",
        "print(f'AUC-PR: {average_precision_score(y_test, catboost.predict_proba(X_test)[..., 1])}')\n",
        "print(f'kappa: {cohen_kappa_score(y_test, catboost.predict(X_test))}')\n",
        "print(f'matthews: {matthews_corrcoef(y_test, catboost.predict(X_test))}')\n"
      ]
    },
    {
      "cell_type": "markdown",
      "source": [
        "Неплохо, но очень долго андерсэмплит + особо нет параметров которые можно подобрать"
      ],
      "metadata": {
        "id": "bJgJc56uQ9oP"
      }
    },
    {
      "cell_type": "markdown",
      "source": [
        "`пробуем 0.8`"
      ],
      "metadata": {
        "id": "7WT4-Aqa75ZG"
      }
    },
    {
      "cell_type": "code",
      "source": [
        "from imblearn.over_sampling import SMOTE\n",
        "class BinaryClassificationModel(nn.Module):\n",
        "    def __init__(self, input_dim):\n",
        "        super(BinaryClassificationModel, self).__init__()\n",
        "        self.layer_1 = nn.Linear(input_dim, 256)\n",
        "        self.layer_2 = nn.Linear(256, 128)\n",
        "        self.layer_3 = nn.Linear(128, 1)\n",
        "        self.drop = nn.Dropout(p=0.2)\n",
        "        # self.layer_4 = nn.Linear(64, 1)\n",
        "        self.relu = nn.ReLU()\n",
        "        self.sigmoid = nn.Sigmoid()\n",
        "\n",
        "    def forward(self, x):\n",
        "        x = self.relu(self.layer_1(x))\n",
        "        x = self.relu(self.layer_2(x))\n",
        "        # x = self.relu(self.layer_3(x))\n",
        "        x = self.sigmoid(self.layer_3(x))\n",
        "        return x\n",
        "\n",
        "def mean_metrics(y_true, X, model, device):\n",
        "    model.eval()\n",
        "    with torch.no_grad():\n",
        "        X_tensor = torch.tensor(X, dtype=torch.float32).to(device)\n",
        "        y_pred_proba = model(X_tensor).cpu().numpy().flatten()\n",
        "        y_pred = (y_pred_proba > 0.5).astype(int)\n",
        "\n",
        "    kappa = cohen_kappa_score(y_true, y_pred)\n",
        "    mcc = matthews_corrcoef(y_true, y_pred)\n",
        "    auc_pr = average_precision_score(y_true, y_pred_proba)\n",
        "    print(round(kappa, 4), round(mcc, 4), round(auc_pr, 4))\n",
        "    return (kappa + mcc + auc_pr) / 3.0\n",
        "\n",
        "def calculate_metrics(model, X, y):\n",
        "    with torch.no_grad():\n",
        "        y_score = model(X).cpu().numpy().flatten()\n",
        "        y_pred = (y_score > 0.5).astype(int)\n",
        "\n",
        "    kappa = cohen_kappa_score(y, y_pred)\n",
        "    mcc = matthews_corrcoef(y, y_pred)\n",
        "    auc_pr = average_precision_score(y, y_score)\n",
        "\n",
        "    print(\"Cohen's Kappa:\", kappa)\n",
        "    print(\"Matthews Correlation Coefficient:\", mcc)\n",
        "    print(\"AUC-PR:\", auc_pr)\n",
        "\n",
        "smote_params = {\n",
        "    'k_neighbors': [7],\n",
        "    'sampling_strategy': np.linspace(0.002, 0.9, 5)\n",
        "}\n",
        "\n",
        "nearmiss_params = {\n",
        "    'n_neighbors': [7],\n",
        "    'sampling_strategy': [0.1, 0.3]\n",
        "}\n",
        "\n",
        "best_score = 0\n",
        "best_params = None\n",
        "best_estimator = None\n",
        "\n",
        "input_dim = X_train.shape[1]\n",
        "num_epochs = 30\n",
        "batch_size = 2048\n",
        "learning_rate = 0.001\n",
        "device = torch.device(\"cuda\" if torch.cuda.is_available() else \"cpu\")\n",
        "X_test_tensor = torch.tensor(X_test.to_numpy(), dtype=torch.float32).to(device)\n",
        "\n",
        "for smote_k in smote_params['k_neighbors']:\n",
        "    for smote_strategy in smote_params['sampling_strategy']:\n",
        "        # for nearmiss_k in nearmiss_params['n_neighbors']:\n",
        "        #     for nearmiss_strategy in nearmiss_params['sampling_strategy']:\n",
        "        #         print(\"Params \",smote_k, smote_strategy, nearmiss_k, nearmiss_strategy)\n",
        "        #         nearmiss = NearMiss(n_neighbors=nearmiss_k, sampling_strategy=nearmiss_strategy)\n",
        "        #         X_resampled, y_resampled = nearmiss.fit_resample(X_resampled, y_resampled)\n",
        "                # smote = KMeansSMOTE(k_neighbors=smote_k, sampling_strategy=smote_strategy, cluster_balance_threshold = 0.0025, random_state=42)\n",
        "                smote = SMOTE(k_neighbors=smote_k, random_state=42)\n",
        "                X_resampled, y_resampled = smote.fit_resample(X_train, y_train)\n",
        "                # n_res, m_res = len(y_resampled[y_resampled == 0]), len(y_resampled[y_resampled == 1])\n",
        "                # if n_res >= m_res / nearmiss_strategy:\n",
        "                #     nearmiss = NearMiss(n_neighbors=nearmiss_k, sampling_strategy=nearmiss_strategy)\n",
        "                #     X_resampled, y_resampled = nearmiss.fit_resample(X_resampled, y_resampled)\n",
        "\n",
        "                X_resampled_array = X_resampled.to_numpy()\n",
        "                y_resampled_array = y_resampled.to_numpy()\n",
        "\n",
        "                train_dataset = TensorDataset(torch.tensor(X_resampled_array, dtype=torch.float32), torch.tensor(y_resampled_array, dtype=torch.float32))\n",
        "                train_loader = DataLoader(dataset=train_dataset, batch_size=batch_size, shuffle=True)\n",
        "\n",
        "                model = BinaryClassificationModel(input_dim).to(device)\n",
        "                criterion = nn.BCELoss()\n",
        "                optimizer = optim.Adam(model.parameters(), lr=learning_rate)\n",
        "                scheduler = ReduceLROnPlateau(optimizer, mode='min', factor=0.5, patience=1, verbose=True)\n",
        "\n",
        "                for epoch in tqdm(range(num_epochs), desc=\"epoch\"):\n",
        "                    model.train()\n",
        "                    for X_batch, y_batch in train_loader:\n",
        "                        X_batch, y_batch = X_batch.to(device), y_batch.to(device)\n",
        "                        optimizer.zero_grad()\n",
        "                        y_pred = model(X_batch).squeeze()\n",
        "                        loss = criterion(y_pred, y_batch)\n",
        "                        loss.backward()\n",
        "                        optimizer.step()\n",
        "\n",
        "                    scheduler.step(loss)\n",
        "\n",
        "                    if (epoch + 1) % 5 == 0:\n",
        "                        print(f'Epoch {epoch}')\n",
        "                        calculate_metrics(model, X_test_tensor, y_test)\n",
        "\n",
        "                score = mean_metrics(y_test, X_test_tensor, model, device)\n",
        "\n",
        "                if score > best_score:\n",
        "                    best_score = score\n",
        "                    best_params = {\n",
        "                        'smote__k_neighbors': smote_k,\n",
        "                        'smote__sampling_strategy': smote_strategy\n",
        "                        # 'nearmiss__n_neighbors': nearmiss_k,\n",
        "                        # 'nearmiss__sampling_strategy': nearmiss_strategy\n",
        "                    }\n",
        "                    best_estimator = model\n",
        "\n",
        "best_estimator.eval()\n",
        "with torch.no_grad():\n",
        "    y_score = best_estimator(X_test_tensor).cpu().numpy().flatten()\n",
        "    y_pred = (y_score > 0.5).astype(int)\n",
        "\n",
        "\n",
        "kappa = cohen_kappa_score(y_test, y_pred)\n",
        "mcc = matthews_corrcoef(y_test, y_pred)\n",
        "auc_pr = average_precision_score(y_test, y_score)\n",
        "\n",
        "print(\"Best Parameters:\", best_params)\n",
        "print(\"Cohen's Kappa:\", kappa)\n",
        "print(\"Matthews Correlation Coefficient:\", mcc)\n",
        "print(\"AUC-PR:\", auc_pr)\n"
      ],
      "metadata": {
        "colab": {
          "base_uri": "https://localhost:8080/"
        },
        "id": "dzsypRP5wA96",
        "outputId": "415b01da-f30f-46b2-d250-75d47b493624"
      },
      "execution_count": null,
      "outputs": [
        {
          "output_type": "stream",
          "name": "stderr",
          "text": [
            "epoch:  17%|█▋        | 5/30 [00:28<02:25,  5.83s/it]"
          ]
        },
        {
          "output_type": "stream",
          "name": "stdout",
          "text": [
            "Epoch 4\n",
            "Cohen's Kappa: 0.2605894675126522\n",
            "Matthews Correlation Coefficient: 0.34784201005619936\n",
            "AUC-PR: 0.7202525347487736\n"
          ]
        },
        {
          "output_type": "stream",
          "name": "stderr",
          "text": [
            "epoch:  33%|███▎      | 10/30 [00:55<01:52,  5.65s/it]"
          ]
        },
        {
          "output_type": "stream",
          "name": "stdout",
          "text": [
            "Epoch 9\n",
            "Cohen's Kappa: 0.30270578722827246\n",
            "Matthews Correlation Coefficient: 0.38123410570874766\n",
            "AUC-PR: 0.7485555006981521\n"
          ]
        },
        {
          "output_type": "stream",
          "name": "stderr",
          "text": [
            "epoch:  50%|█████     | 15/30 [01:23<01:23,  5.59s/it]"
          ]
        },
        {
          "output_type": "stream",
          "name": "stdout",
          "text": [
            "Epoch 14\n",
            "Cohen's Kappa: 0.3000140930558567\n",
            "Matthews Correlation Coefficient: 0.3791230054226517\n",
            "AUC-PR: 0.738165938116323\n"
          ]
        },
        {
          "output_type": "stream",
          "name": "stderr",
          "text": [
            "epoch:  67%|██████▋   | 20/30 [01:50<00:55,  5.58s/it]"
          ]
        },
        {
          "output_type": "stream",
          "name": "stdout",
          "text": [
            "Epoch 19\n",
            "Cohen's Kappa: 0.48516889791811235\n",
            "Matthews Correlation Coefficient: 0.5226401816030567\n",
            "AUC-PR: 0.7207872955901785\n"
          ]
        },
        {
          "output_type": "stream",
          "name": "stderr",
          "text": [
            "epoch:  83%|████████▎ | 25/30 [02:17<00:28,  5.60s/it]"
          ]
        },
        {
          "output_type": "stream",
          "name": "stdout",
          "text": [
            "Epoch 24\n",
            "Cohen's Kappa: 0.4716553930030384\n",
            "Matthews Correlation Coefficient: 0.5120520775041064\n",
            "AUC-PR: 0.717541409662246\n"
          ]
        },
        {
          "output_type": "stream",
          "name": "stderr",
          "text": [
            "epoch: 100%|██████████| 30/30 [02:44<00:00,  5.50s/it]"
          ]
        },
        {
          "output_type": "stream",
          "name": "stdout",
          "text": [
            "Epoch 29\n",
            "Cohen's Kappa: 0.4994769171606319\n",
            "Matthews Correlation Coefficient: 0.5339108868073009\n",
            "AUC-PR: 0.7215534384043067\n",
            "0.4995 0.5339 0.7216\n"
          ]
        },
        {
          "output_type": "stream",
          "name": "stderr",
          "text": [
            "\n",
            "epoch:  17%|█▋        | 5/30 [00:27<02:20,  5.60s/it]"
          ]
        },
        {
          "output_type": "stream",
          "name": "stdout",
          "text": [
            "Epoch 4\n",
            "Cohen's Kappa: 0.08958533549772374\n",
            "Matthews Correlation Coefficient: 0.1913516443567737\n",
            "AUC-PR: 0.6756895951032488\n"
          ]
        },
        {
          "output_type": "stream",
          "name": "stderr",
          "text": [
            "epoch:  33%|███▎      | 10/30 [00:54<01:51,  5.57s/it]"
          ]
        },
        {
          "output_type": "stream",
          "name": "stdout",
          "text": [
            "Epoch 9\n",
            "Cohen's Kappa: 0.22119205511062123\n",
            "Matthews Correlation Coefficient: 0.31562980883757474\n",
            "AUC-PR: 0.7122366038042071\n"
          ]
        },
        {
          "output_type": "stream",
          "name": "stderr",
          "text": [
            "epoch:  50%|█████     | 15/30 [01:22<01:24,  5.63s/it]"
          ]
        },
        {
          "output_type": "stream",
          "name": "stdout",
          "text": [
            "Epoch 14\n",
            "Cohen's Kappa: 0.31107711053437703\n",
            "Matthews Correlation Coefficient: 0.3877839855233481\n",
            "AUC-PR: 0.7130357645883745\n"
          ]
        },
        {
          "output_type": "stream",
          "name": "stderr",
          "text": [
            "epoch:  67%|██████▋   | 20/30 [01:49<00:56,  5.64s/it]"
          ]
        },
        {
          "output_type": "stream",
          "name": "stdout",
          "text": [
            "Epoch 19\n",
            "Cohen's Kappa: 0.34973872536246675\n",
            "Matthews Correlation Coefficient: 0.41779649109659944\n",
            "AUC-PR: 0.7135793866859047\n"
          ]
        },
        {
          "output_type": "stream",
          "name": "stderr",
          "text": [
            "epoch:  83%|████████▎ | 25/30 [02:17<00:28,  5.63s/it]"
          ]
        },
        {
          "output_type": "stream",
          "name": "stdout",
          "text": [
            "Epoch 24\n",
            "Cohen's Kappa: 0.3533966575366543\n",
            "Matthews Correlation Coefficient: 0.42062174058490864\n",
            "AUC-PR: 0.7131011939322154\n"
          ]
        },
        {
          "output_type": "stream",
          "name": "stderr",
          "text": [
            "epoch: 100%|██████████| 30/30 [02:44<00:00,  5.49s/it]"
          ]
        },
        {
          "output_type": "stream",
          "name": "stdout",
          "text": [
            "Epoch 29\n",
            "Cohen's Kappa: 0.3533966575366543\n",
            "Matthews Correlation Coefficient: 0.42062174058490864\n",
            "AUC-PR: 0.7126373984366059\n",
            "0.3534 0.4206 0.7126\n"
          ]
        },
        {
          "output_type": "stream",
          "name": "stderr",
          "text": [
            "\n",
            "epoch:  17%|█▋        | 5/30 [00:27<02:22,  5.70s/it]"
          ]
        },
        {
          "output_type": "stream",
          "name": "stdout",
          "text": [
            "Epoch 4\n",
            "Cohen's Kappa: 0.3770506401989143\n",
            "Matthews Correlation Coefficient: 0.4388600452532341\n",
            "AUC-PR: 0.7129472543913659\n"
          ]
        },
        {
          "output_type": "stream",
          "name": "stderr",
          "text": [
            "epoch:  33%|███▎      | 10/30 [00:55<01:52,  5.63s/it]"
          ]
        },
        {
          "output_type": "stream",
          "name": "stdout",
          "text": [
            "Epoch 9\n",
            "Cohen's Kappa: 0.21690954083035474\n",
            "Matthews Correlation Coefficient: 0.3120503555794489\n",
            "AUC-PR: 0.6921603917146809\n"
          ]
        },
        {
          "output_type": "stream",
          "name": "stderr",
          "text": [
            "epoch:  50%|█████     | 15/30 [01:23<01:24,  5.60s/it]"
          ]
        },
        {
          "output_type": "stream",
          "name": "stdout",
          "text": [
            "Epoch 14\n",
            "Cohen's Kappa: 0.33920373133174053\n",
            "Matthews Correlation Coefficient: 0.40964876149329543\n",
            "AUC-PR: 0.7010773798226513\n"
          ]
        },
        {
          "output_type": "stream",
          "name": "stderr",
          "text": [
            "epoch:  67%|██████▋   | 20/30 [01:51<00:55,  5.57s/it]"
          ]
        },
        {
          "output_type": "stream",
          "name": "stdout",
          "text": [
            "Epoch 19\n",
            "Cohen's Kappa: 0.40408239443338767\n",
            "Matthews Correlation Coefficient: 0.4596820613881248\n",
            "AUC-PR: 0.6932259785203796\n"
          ]
        },
        {
          "output_type": "stream",
          "name": "stderr",
          "text": [
            "epoch:  83%|████████▎ | 25/30 [02:18<00:27,  5.53s/it]"
          ]
        },
        {
          "output_type": "stream",
          "name": "stdout",
          "text": [
            "Epoch 24\n",
            "Cohen's Kappa: 0.3946528785432547\n",
            "Matthews Correlation Coefficient: 0.45241720891755566\n",
            "AUC-PR: 0.691607528059616\n"
          ]
        },
        {
          "output_type": "stream",
          "name": "stderr",
          "text": [
            "epoch: 100%|██████████| 30/30 [02:46<00:00,  5.55s/it]"
          ]
        },
        {
          "output_type": "stream",
          "name": "stdout",
          "text": [
            "Epoch 29\n",
            "Cohen's Kappa: 0.40408239443338767\n",
            "Matthews Correlation Coefficient: 0.4596820613881248\n",
            "AUC-PR: 0.6913052790957949\n",
            "0.4041 0.4597 0.6913\n"
          ]
        },
        {
          "output_type": "stream",
          "name": "stderr",
          "text": [
            "\n",
            "epoch:  17%|█▋        | 5/30 [00:27<02:16,  5.45s/it]"
          ]
        },
        {
          "output_type": "stream",
          "name": "stdout",
          "text": [
            "Epoch 4\n",
            "Cohen's Kappa: 0.21690954083035474\n",
            "Matthews Correlation Coefficient: 0.3120503555794489\n",
            "AUC-PR: 0.7389403107929674\n"
          ]
        },
        {
          "output_type": "stream",
          "name": "stderr",
          "text": [
            "epoch:  33%|███▎      | 10/30 [00:54<01:47,  5.37s/it]"
          ]
        },
        {
          "output_type": "stream",
          "name": "stdout",
          "text": [
            "Epoch 9\n",
            "Cohen's Kappa: 0.21974601542463412\n",
            "Matthews Correlation Coefficient: 0.31442314117138426\n",
            "AUC-PR: 0.6862300613051919\n"
          ]
        },
        {
          "output_type": "stream",
          "name": "stderr",
          "text": [
            "epoch:  50%|█████     | 15/30 [01:22<01:22,  5.52s/it]"
          ]
        },
        {
          "output_type": "stream",
          "name": "stdout",
          "text": [
            "Epoch 14\n",
            "Cohen's Kappa: 0.24719894622228245\n",
            "Matthews Correlation Coefficient: 0.3370231487935079\n",
            "AUC-PR: 0.7126885433996447\n"
          ]
        },
        {
          "output_type": "stream",
          "name": "stderr",
          "text": [
            "epoch:  67%|██████▋   | 20/30 [01:49<00:53,  5.40s/it]"
          ]
        },
        {
          "output_type": "stream",
          "name": "stdout",
          "text": [
            "Epoch 19\n",
            "Cohen's Kappa: 0.3728917791894496\n",
            "Matthews Correlation Coefficient: 0.43565610281431444\n",
            "AUC-PR: 0.7169918945889432\n"
          ]
        },
        {
          "output_type": "stream",
          "name": "stderr",
          "text": [
            "epoch:  83%|████████▎ | 25/30 [02:16<00:27,  5.41s/it]"
          ]
        },
        {
          "output_type": "stream",
          "name": "stdout",
          "text": [
            "Epoch 24\n",
            "Cohen's Kappa: 0.34973872536246675\n",
            "Matthews Correlation Coefficient: 0.41779649109659944\n",
            "AUC-PR: 0.7155919237027346\n"
          ]
        },
        {
          "output_type": "stream",
          "name": "stderr",
          "text": [
            "epoch: 100%|██████████| 30/30 [02:44<00:00,  5.48s/it]"
          ]
        },
        {
          "output_type": "stream",
          "name": "stdout",
          "text": [
            "Epoch 29\n",
            "Cohen's Kappa: 0.34615541894415447\n",
            "Matthews Correlation Coefficient: 0.41502711069377707\n",
            "AUC-PR: 0.7112249577154907\n",
            "0.3462 0.415 0.7112\n"
          ]
        },
        {
          "output_type": "stream",
          "name": "stderr",
          "text": [
            "\n",
            "epoch:  17%|█▋        | 5/30 [00:27<02:14,  5.38s/it]"
          ]
        },
        {
          "output_type": "stream",
          "name": "stdout",
          "text": [
            "Epoch 4\n",
            "Cohen's Kappa: 0.09901755560922265\n",
            "Matthews Correlation Coefficient: 0.19620149351865795\n",
            "AUC-PR: 0.6067823522494201\n"
          ]
        },
        {
          "output_type": "stream",
          "name": "stderr",
          "text": [
            "epoch:  33%|███▎      | 10/30 [01:04<02:27,  7.37s/it]"
          ]
        },
        {
          "output_type": "stream",
          "name": "stdout",
          "text": [
            "Epoch 9\n",
            "Cohen's Kappa: 0.28740560099446555\n",
            "Matthews Correlation Coefficient: 0.36073725620978075\n",
            "AUC-PR: 0.6799375709357499\n"
          ]
        },
        {
          "output_type": "stream",
          "name": "stderr",
          "text": [
            "epoch:  50%|█████     | 15/30 [01:44<01:59,  7.95s/it]"
          ]
        },
        {
          "output_type": "stream",
          "name": "stdout",
          "text": [
            "Epoch 14\n",
            "Cohen's Kappa: 0.3360539178229798\n",
            "Matthews Correlation Coefficient: 0.3985098129655076\n",
            "AUC-PR: 0.6464766695612919\n"
          ]
        },
        {
          "output_type": "stream",
          "name": "stderr",
          "text": [
            "epoch:  67%|██████▋   | 20/30 [02:11<01:00,  6.00s/it]"
          ]
        },
        {
          "output_type": "stream",
          "name": "stdout",
          "text": [
            "Epoch 19\n",
            "Cohen's Kappa: 0.3068479889238024\n",
            "Matthews Correlation Coefficient: 0.3759005143200728\n",
            "AUC-PR: 0.6454245117792797\n"
          ]
        },
        {
          "output_type": "stream",
          "name": "stderr",
          "text": [
            "epoch:  83%|████████▎ | 25/30 [02:38<00:28,  5.60s/it]"
          ]
        },
        {
          "output_type": "stream",
          "name": "stdout",
          "text": [
            "Epoch 24\n",
            "Cohen's Kappa: 0.32572277578615927\n",
            "Matthews Correlation Coefficient: 0.39052915287019085\n",
            "AUC-PR: 0.6434558032363507\n"
          ]
        },
        {
          "output_type": "stream",
          "name": "stderr",
          "text": [
            "epoch: 100%|██████████| 30/30 [03:06<00:00,  6.21s/it]"
          ]
        },
        {
          "output_type": "stream",
          "name": "stdout",
          "text": [
            "Epoch 29\n",
            "Cohen's Kappa: 0.32572277578615927\n",
            "Matthews Correlation Coefficient: 0.39052915287019085\n",
            "AUC-PR: 0.6423195775741586\n",
            "0.3257 0.3905 0.6423\n",
            "Best Parameters: {'smote__k_neighbors': 7, 'smote__sampling_strategy': 0.002}\n",
            "Cohen's Kappa: 0.4994769171606319\n",
            "Matthews Correlation Coefficient: 0.5339108868073009\n",
            "AUC-PR: 0.7215534384043067\n"
          ]
        },
        {
          "output_type": "stream",
          "name": "stderr",
          "text": [
            "\n"
          ]
        }
      ]
    },
    {
      "cell_type": "code",
      "source": [
        "def mean_metrics(y_true, X, classifier):\n",
        "    kappa = cohen_kappa_score(y_true, classifier.predict(X))\n",
        "    mcc = matthews_corrcoef(y_true, classifier.predict(X))\n",
        "    auc_pr = average_precision_score(y_true, classifier.predict_proba(X)[:, 1])\n",
        "    print(round(kappa,4), round(mcc,4), round(auc_pr, 4))\n",
        "    return (kappa + mcc + auc_pr) / 3.0\n",
        "\n",
        "smote_params = {\n",
        "    'k_neighbors': [3, 9],\n",
        "    'sampling_strategy': [0.1, 0.35, 0.5, 1.0]\n",
        "}\n",
        "\n",
        "nearmiss_params = {\n",
        "    'n_neighbors': [3, 9],\n",
        "    'sampling_strategy': [0.1, 0.35, 0.5, 1.0]\n",
        "}\n",
        "\n",
        "best_score = 0\n",
        "best_params = None\n",
        "best_estimator = None\n",
        "n = len(y_train[y_train == 0])\n",
        "m = len(y_train[y_train == 1])\n",
        "\n",
        "for smote_k in tqdm(smote_params['k_neighbors'], desc=\"SMOTE k_neighbors\"):\n",
        "    for smote_strategy in tqdm(smote_params['sampling_strategy'], leave=False, desc=\"SMOTE sampling_strategy\"):\n",
        "        for nearmiss_k in tqdm(nearmiss_params['n_neighbors'], leave=False, desc=\"NearMiss n_neighbors\"):\n",
        "            for nearmiss_strategy in tqdm(nearmiss_params['sampling_strategy'], leave=False, desc=\"NearMiss sampling_strategy\"):\n",
        "\n",
        "                smote = BorderlineSMOTE(k_neighbors=smote_k, sampling_strategy=smote_strategy)\n",
        "                X_resampled, y_resampled = smote.fit_resample(X_train, y_train)\n",
        "\n",
        "                n_res, m_res = len(y_resampled[y_resampled == 0]), len(y_resampled[y_resampled == 1])\n",
        "                if n_res >= m_res / nearmiss_strategy:\n",
        "                    nearmiss = NearMiss(n_neighbors=nearmiss_k, sampling_strategy=nearmiss_strategy)\n",
        "                    X_resampled, y_resampled = nearmiss.fit_resample(X_resampled, y_resampled)\n",
        "\n",
        "                classifier = CatBoostClassifier(silent=True, random_state=42, use_best_model = True)\n",
        "                classifier.fit(X_resampled, y_resampled, eval_set = (X_val, y_val))\n",
        "\n",
        "                score = mean_metrics(y_test, X_test, classifier)\n",
        "\n",
        "                if score > best_score:\n",
        "                    best_score = score\n",
        "                    best_params = {\n",
        "                        'smote__k_neighbors': smote_k,\n",
        "                        'smote__sampling_strategy': smote_strategy,\n",
        "                        'nearmiss__n_neighbors': nearmiss_k,\n",
        "                        'nearmiss__sampling_strategy': nearmiss_strategy\n",
        "                    }\n",
        "                    best_estimator = classifier\n",
        "\n",
        "\n",
        "\n",
        "y_score = best_estimator.predict_proba(X_test)[:, 1]\n",
        "y_pred = best_estimator.predict(X_test)\n",
        "\n",
        "kappa = cohen_kappa_score(y_test, y_pred)\n",
        "mcc = matthews_corrcoef(y_test, y_pred)\n",
        "auc_pr = average_precision_score(y_test, y_score)\n",
        "\n",
        "print(\"Best Parameters:\", best_params)\n",
        "print(\"Cohen's Kappa:\", kappa)\n",
        "print(\"Matthews Correlation Coefficient:\", mcc)\n",
        "print(\"AUC-PR:\", auc_pr)\n"
      ],
      "metadata": {
        "colab": {
          "base_uri": "https://localhost:8080/"
        },
        "id": "X1PGwTl08HHf",
        "outputId": "5887d60b-33a1-4aae-e5d3-41bbd2fbdb5b"
      },
      "execution_count": null,
      "outputs": [
        {
          "metadata": {
            "tags": null
          },
          "name": "stderr",
          "output_type": "stream",
          "text": [
            "SMOTE k_neighbors:   0%|          | 0/2 [00:00<?, ?it/s]\n",
            "SMOTE sampling_strategy:   0%|          | 0/4 [00:00<?, ?it/s]\u001b[A\n",
            "\n",
            "NearMiss n_neighbors:   0%|          | 0/2 [00:00<?, ?it/s]\u001b[A\u001b[A\n",
            "\n",
            "\n",
            "NearMiss sampling_strategy:   0%|          | 0/4 [00:00<?, ?it/s]\u001b[A\u001b[A\u001b[A\n",
            "\n",
            "\n",
            "NearMiss sampling_strategy:  25%|██▌       | 1/4 [01:41<05:04, 101.50s/it]\u001b[A\u001b[A\u001b[A"
          ]
        },
        {
          "metadata": {
            "tags": null
          },
          "name": "stdout",
          "output_type": "stream",
          "text": [
            "0.6806 0.682 0.69\n"
          ]
        },
        {
          "metadata": {
            "tags": null
          },
          "name": "stderr",
          "output_type": "stream",
          "text": [
            "\n",
            "\n",
            "\n",
            "NearMiss sampling_strategy:  50%|█████     | 2/4 [02:43<02:36, 78.41s/it] \u001b[A\u001b[A\u001b[A"
          ]
        },
        {
          "metadata": {
            "tags": null
          },
          "name": "stdout",
          "output_type": "stream",
          "text": [
            "0.2798 0.3548 0.6424\n"
          ]
        },
        {
          "metadata": {
            "tags": null
          },
          "name": "stderr",
          "output_type": "stream",
          "text": [
            "\n",
            "\n",
            "\n",
            "NearMiss sampling_strategy:  75%|███████▌  | 3/4 [03:41<01:08, 68.83s/it]\u001b[A\u001b[A\u001b[A"
          ]
        },
        {
          "metadata": {
            "tags": null
          },
          "name": "stdout",
          "output_type": "stream",
          "text": [
            "0.1596 0.2551 0.7024\n"
          ]
        },
        {
          "metadata": {
            "tags": null
          },
          "name": "stderr",
          "output_type": "stream",
          "text": [
            "\n",
            "\n",
            "\n",
            "NearMiss sampling_strategy: 100%|██████████| 4/4 [04:34<00:00, 62.71s/it]\u001b[A\u001b[A\u001b[A\n",
            "\n",
            "\n",
            "                                                                         \u001b[A\u001b[A\u001b[A\n",
            "\n",
            "NearMiss n_neighbors:  50%|█████     | 1/2 [04:34<04:34, 274.53s/it]\u001b[A\u001b[A"
          ]
        },
        {
          "metadata": {
            "tags": null
          },
          "name": "stdout",
          "output_type": "stream",
          "text": [
            "0.0793 0.1742 0.6865\n"
          ]
        },
        {
          "metadata": {
            "tags": null
          },
          "name": "stderr",
          "output_type": "stream",
          "text": [
            "\n",
            "\n",
            "\n",
            "NearMiss sampling_strategy:   0%|          | 0/4 [00:00<?, ?it/s]\u001b[A\u001b[A\u001b[A\n",
            "\n",
            "\n",
            "NearMiss sampling_strategy:  25%|██▌       | 1/4 [01:42<05:07, 102.55s/it]\u001b[A\u001b[A\u001b[A"
          ]
        },
        {
          "metadata": {
            "tags": null
          },
          "name": "stdout",
          "output_type": "stream",
          "text": [
            "0.6954 0.6961 0.7234\n"
          ]
        },
        {
          "metadata": {
            "tags": null
          },
          "name": "stderr",
          "output_type": "stream",
          "text": [
            "\n",
            "\n",
            "\n",
            "NearMiss sampling_strategy:  50%|█████     | 2/4 [02:42<02:35, 77.77s/it] \u001b[A\u001b[A\u001b[A"
          ]
        },
        {
          "metadata": {
            "tags": null
          },
          "name": "stdout",
          "output_type": "stream",
          "text": [
            "0.2571 0.3368 0.6642\n"
          ]
        },
        {
          "metadata": {
            "tags": null
          },
          "name": "stderr",
          "output_type": "stream",
          "text": [
            "\n",
            "\n",
            "\n",
            "NearMiss sampling_strategy:  75%|███████▌  | 3/4 [03:41<01:09, 69.16s/it]\u001b[A\u001b[A\u001b[A"
          ]
        },
        {
          "metadata": {
            "tags": null
          },
          "name": "stdout",
          "output_type": "stream",
          "text": [
            "0.1747 0.2685 0.6523\n"
          ]
        },
        {
          "metadata": {
            "tags": null
          },
          "name": "stderr",
          "output_type": "stream",
          "text": [
            "\n",
            "\n",
            "\n",
            "NearMiss sampling_strategy: 100%|██████████| 4/4 [04:33<00:00, 62.19s/it]\u001b[A\u001b[A\u001b[A\n",
            "\n",
            "\n",
            "                                                                         \u001b[A\u001b[A\u001b[A\n",
            "\n",
            "NearMiss n_neighbors: 100%|██████████| 2/2 [09:07<00:00, 273.87s/it]\u001b[A\u001b[A\n",
            "\n",
            "                                                                    \u001b[A\u001b[A\n",
            "SMOTE sampling_strategy:  25%|██▌       | 1/4 [09:07<27:23, 547.96s/it]\u001b[A"
          ]
        },
        {
          "metadata": {
            "tags": null
          },
          "name": "stdout",
          "output_type": "stream",
          "text": [
            "0.1057 0.2033 0.7051\n"
          ]
        },
        {
          "metadata": {
            "tags": null
          },
          "name": "stderr",
          "output_type": "stream",
          "text": [
            "\n",
            "\n",
            "NearMiss n_neighbors:   0%|          | 0/2 [00:00<?, ?it/s]\u001b[A\u001b[A\n",
            "\n",
            "\n",
            "NearMiss sampling_strategy:   0%|          | 0/4 [00:00<?, ?it/s]\u001b[A\u001b[A\u001b[A\n",
            "\n",
            "\n",
            "NearMiss sampling_strategy:  25%|██▌       | 1/4 [01:24<04:13, 84.50s/it]\u001b[A\u001b[A\u001b[A"
          ]
        },
        {
          "metadata": {
            "tags": null
          },
          "name": "stdout",
          "output_type": "stream",
          "text": [
            "0.615 0.6225 0.7244\n"
          ]
        },
        {
          "metadata": {
            "tags": null
          },
          "name": "stderr",
          "output_type": "stream",
          "text": [
            "\n",
            "\n",
            "\n",
            "NearMiss sampling_strategy:  50%|█████     | 2/4 [04:32<04:51, 145.51s/it]\u001b[A\u001b[A\u001b[A"
          ]
        },
        {
          "metadata": {
            "tags": null
          },
          "name": "stdout",
          "output_type": "stream",
          "text": [
            "0.6806 0.682 0.7044\n"
          ]
        },
        {
          "metadata": {
            "tags": null
          },
          "name": "stderr",
          "output_type": "stream",
          "text": [
            "\n",
            "\n",
            "\n",
            "NearMiss sampling_strategy:  75%|███████▌  | 3/4 [07:39<02:44, 164.16s/it]\u001b[A\u001b[A\u001b[A"
          ]
        },
        {
          "metadata": {
            "tags": null
          },
          "name": "stdout",
          "output_type": "stream",
          "text": [
            "0.4995 0.5259 0.661\n"
          ]
        },
        {
          "metadata": {
            "tags": null
          },
          "name": "stderr",
          "output_type": "stream",
          "text": [
            "\n",
            "\n",
            "\n",
            "NearMiss sampling_strategy: 100%|██████████| 4/4 [10:54<00:00, 176.48s/it]\u001b[A\u001b[A\u001b[A\n",
            "\n",
            "\n",
            "                                                                          \u001b[A\u001b[A\u001b[A\n",
            "\n",
            "NearMiss n_neighbors:  50%|█████     | 1/2 [10:54<10:54, 654.45s/it]\u001b[A\u001b[A"
          ]
        },
        {
          "metadata": {
            "tags": null
          },
          "name": "stdout",
          "output_type": "stream",
          "text": [
            "0.2922 0.373 0.6825\n"
          ]
        },
        {
          "metadata": {
            "tags": null
          },
          "name": "stderr",
          "output_type": "stream",
          "text": [
            "\n",
            "\n",
            "\n",
            "NearMiss sampling_strategy:   0%|          | 0/4 [00:00<?, ?it/s]\u001b[A\u001b[A\u001b[A\n",
            "\n",
            "\n",
            "NearMiss sampling_strategy:  25%|██▌       | 1/4 [01:29<04:27, 89.21s/it]\u001b[A\u001b[A\u001b[A"
          ]
        },
        {
          "metadata": {
            "tags": null
          },
          "name": "stdout",
          "output_type": "stream",
          "text": [
            "0.6664 0.6687 0.6919\n"
          ]
        },
        {
          "metadata": {
            "tags": null
          },
          "name": "stderr",
          "output_type": "stream",
          "text": [
            "\n",
            "\n",
            "\n",
            "NearMiss sampling_strategy:  50%|█████     | 2/4 [05:42<06:11, 185.83s/it]\u001b[A\u001b[A\u001b[A"
          ]
        },
        {
          "metadata": {
            "tags": null
          },
          "name": "stdout",
          "output_type": "stream",
          "text": [
            "0.6664 0.6687 0.7228\n"
          ]
        },
        {
          "metadata": {
            "tags": null
          },
          "name": "stderr",
          "output_type": "stream",
          "text": [
            "\n",
            "\n",
            "\n",
            "NearMiss sampling_strategy:  75%|███████▌  | 3/4 [08:35<03:00, 180.04s/it]\u001b[A\u001b[A\u001b[A"
          ]
        },
        {
          "metadata": {
            "tags": null
          },
          "name": "stdout",
          "output_type": "stream",
          "text": [
            "0.4096 0.4552 0.6591\n"
          ]
        },
        {
          "metadata": {
            "tags": null
          },
          "name": "stderr",
          "output_type": "stream",
          "text": [
            "\n",
            "\n",
            "\n",
            "NearMiss sampling_strategy: 100%|██████████| 4/4 [11:08<00:00, 169.04s/it]\u001b[A\u001b[A\u001b[A\n",
            "\n",
            "\n",
            "                                                                          \u001b[A\u001b[A\u001b[A\n",
            "\n",
            "NearMiss n_neighbors: 100%|██████████| 2/2 [22:02<00:00, 662.43s/it]\u001b[A\u001b[A\n",
            "\n",
            "                                                                    \u001b[A\u001b[A\n",
            "SMOTE sampling_strategy:  50%|█████     | 2/4 [31:10<33:27, 1003.56s/it]\u001b[A"
          ]
        },
        {
          "metadata": {
            "tags": null
          },
          "name": "stdout",
          "output_type": "stream",
          "text": [
            "0.3054 0.3834 0.6847\n"
          ]
        },
        {
          "metadata": {
            "tags": null
          },
          "name": "stderr",
          "output_type": "stream",
          "text": [
            "\n",
            "\n",
            "NearMiss n_neighbors:   0%|          | 0/2 [00:00<?, ?it/s]\u001b[A\u001b[A\n",
            "\n",
            "\n",
            "NearMiss sampling_strategy:   0%|          | 0/4 [00:00<?, ?it/s]\u001b[A\u001b[A\u001b[A\n",
            "\n",
            "\n",
            "NearMiss sampling_strategy:  25%|██▌       | 1/4 [01:23<04:11, 83.77s/it]\u001b[A\u001b[A\u001b[A"
          ]
        },
        {
          "metadata": {
            "tags": null
          },
          "name": "stdout",
          "output_type": "stream",
          "text": [
            "0.5922 0.6027 0.7166\n"
          ]
        },
        {
          "metadata": {
            "tags": null
          },
          "name": "stderr",
          "output_type": "stream",
          "text": [
            "\n",
            "\n",
            "\n",
            "NearMiss sampling_strategy:  50%|█████     | 2/4 [02:48<02:48, 84.20s/it]\u001b[A\u001b[A\u001b[A"
          ]
        },
        {
          "metadata": {
            "tags": null
          },
          "name": "stdout",
          "output_type": "stream",
          "text": [
            "0.5814 0.5934 0.7132\n"
          ]
        },
        {
          "output_type": "stream",
          "name": "stderr",
          "text": [
            "\n",
            "\n",
            "\n",
            "NearMiss sampling_strategy:  75%|███████▌  | 3/4 [06:48<02:35, 155.55s/it]\u001b[A\u001b[A\u001b[A"
          ]
        },
        {
          "output_type": "stream",
          "name": "stdout",
          "text": [
            "0.615 0.6225 0.7423\n"
          ]
        }
      ]
    },
    {
      "cell_type": "code",
      "source": [
        "class BinaryClassificationModel(nn.Module):\n",
        "    def __init__(self, input_dim):\n",
        "        super(BinaryClassificationModel, self).__init__()\n",
        "        self.layer_1 = nn.Linear(input_dim, 256)\n",
        "        self.layer_2 = nn.Linear(256, 128)\n",
        "        self.layer_3 = nn.Linear(128, 1)\n",
        "        # self.drop = nn.Dropout(p=0.2)\n",
        "        self.relu = nn.ReLU()\n",
        "        self.sigmoid = nn.Sigmoid()\n",
        "\n",
        "    def forward(self, x):\n",
        "        x = self.relu(self.layer_1(x))\n",
        "        # x = self.drop(x)\n",
        "        x = self.relu(self.layer_2(x))\n",
        "        # x = self.drop(x)\n",
        "        x = self.sigmoid(self.layer_3(x))\n",
        "        return x\n",
        "\n",
        "input_dim = X_train.shape[1]\n",
        "num_epochs = 25\n",
        "batch_size = 1024\n",
        "learning_rate = 0.001\n",
        "device = torch.device(\"cuda\" if torch.cuda.is_available() else \"cpu\")\n",
        "X_test_tensor = torch.tensor(X_test.to_numpy(), dtype=torch.float32).to(device)\n",
        "\n",
        "smote = KMeansSMOTE(k_neighbors=7, sampling_strategy=0.8, cluster_balance_threshold=0.0025, random_state=42)\n",
        "X_resampled, y_resampled = smote.fit_resample(X_train, y_train)\n",
        "\n",
        "X_resampled_array = X_resampled.to_numpy()\n",
        "y_resampled_array = y_resampled.to_numpy()\n",
        "\n",
        "train_dataset = TensorDataset(torch.tensor(X_resampled_array, dtype=torch.float32), torch.tensor(y_resampled_array, dtype=torch.float32))\n",
        "train_loader = DataLoader(dataset=train_dataset, batch_size=batch_size, shuffle=True)\n",
        "\n",
        "model = BinaryClassificationModel(input_dim).to(device)\n",
        "criterion = nn.BCELoss()\n",
        "optimizer = optim.Adam(model.parameters(), lr=learning_rate)\n",
        "scheduler = optim.lr_scheduler.ReduceLROnPlateau(optimizer, mode='min', factor=0.5, patience=1, verbose=True)\n",
        "\n",
        "for epoch in tqdm(range(num_epochs), desc=\"epoch\"):\n",
        "    model.train()\n",
        "    epoch_loss = 0.0\n",
        "    for X_batch, y_batch in train_loader:\n",
        "        X_batch, y_batch = X_batch.to(device), y_batch.to(device)\n",
        "        optimizer.zero_grad()\n",
        "        y_pred = model(X_batch).squeeze()\n",
        "        loss = criterion(y_pred, y_batch)\n",
        "        loss.backward()\n",
        "        optimizer.step()\n",
        "        epoch_loss += loss.item()\n",
        "\n",
        "    epoch_loss /= len(train_loader)\n",
        "    scheduler.step(epoch_loss)\n",
        "\n",
        "model.eval()\n",
        "with torch.no_grad():\n",
        "    y_score = model(X_test_tensor).cpu().numpy().flatten()\n",
        "    y_pred = (y_score > 0.5).astype(int)\n",
        "\n",
        "kappa = cohen_kappa_score(y_test, y_pred)\n",
        "mcc = matthews_corrcoef(y_test, y_pred)\n",
        "auc_pr = average_precision_score(y_test, y_score)\n",
        "\n",
        "print(\"Cohen's Kappa:\", kappa)\n",
        "print(\"Matthews Correlation Coefficient:\", mcc)\n",
        "print(\"AUC-PR:\", auc_pr)\n"
      ],
      "metadata": {
        "colab": {
          "base_uri": "https://localhost:8080/"
        },
        "id": "MHwd27Qm_owp",
        "outputId": "76a053a4-0f6e-43cf-ba1d-1de807d438d2"
      },
      "execution_count": null,
      "outputs": [
        {
          "output_type": "stream",
          "name": "stderr",
          "text": [
            "epoch: 100%|██████████| 25/25 [01:55<00:00,  4.64s/it]"
          ]
        },
        {
          "output_type": "stream",
          "name": "stdout",
          "text": [
            "Cohen's Kappa: 0.6396882805812127\n",
            "Matthews Correlation Coefficient: 0.6443525381406625\n",
            "AUC-PR: 0.663006508406583\n"
          ]
        },
        {
          "output_type": "stream",
          "name": "stderr",
          "text": [
            "\n"
          ]
        }
      ]
    },
    {
      "cell_type": "markdown",
      "source": [
        "по моему получилось что оверсэмплеры не улучшают ничего\n",
        "я попробовал и катбуст и сетки, AUC-PR не вышло выше 0.76(но не на показательном трае) поднять, но остальные метрики выше 0.8\n",
        "\n",
        "Я без понятия почему сейчас такие слабые метрики, random_state вроде зафиксирован, все то же самое, но метрики вообще другие. Как обычно за час перед дедлайном такое случается...\n",
        "\n",
        "\n",
        "\n",
        "\n"
      ],
      "metadata": {
        "id": "WGvKdpxY-pGy"
      }
    },
    {
      "cell_type": "markdown",
      "metadata": {
        "id": "gBf-rrmcs9BV"
      },
      "source": [
        "# Поиск аномалий."
      ]
    },
    {
      "cell_type": "markdown",
      "metadata": {
        "id": "mrRy0uOAs9BW"
      },
      "source": [
        "Как часто бывает в задачах, связанных с балансировкой выборок, стандартные методы могут не всегда давать наилучшие результаты. Это связано с тем, что такие методы могут искажать информацию о реальном распределении данных. В реальных условиях требуется тщательный подбор подходящих методов и их точная настройка.\n",
        "\n",
        "Теперь давайте сменим акцент и перейдем к задаче “одноклассовой” классификации, которая часто используется для обнаружения аномалий в данных. Это хорошо согласуется с нашей областью работы, так как мошеннические транзакции можно рассматривать как аномалии, что подтверждается как интуитивно, так и на основе наблюдаемой дисбалансировки данных.\n",
        "\n",
        "Методы обнаружения аномалий обычно относятся к классу методов обучения без учителя, что имеет свои преимущества — не всегда нужно тратить время на разметку данных. Однако для контроля качества все же стоит разметить часть данных. Хотя такие методы часто уступают в производительности методам обучения с учителем, они остаются полезными, когда разметка данных затруднена.\n",
        "\n",
        "В рамках нашей работы мы будем использовать подход, аналогичный Random Forest, для детекции аномалий без разметки данных — это алгоритм Isolation Forest. В процессе обучения создается ансамбль решающих деревьев, в котором признаки и пороги для каждой вершины выбираются случайно. Оценка аномальности объекта определяется через длину пути до листа в каждом дереве.\n",
        "\n",
        "Задача заключается в реализации модифицированной версии этого алгоритма, известной как Extended Isolation Forest. В этом варианте на каждом шаге мы будем определять не просто порог для признака, а полноценную случайную гиперплоскость, которая разделяет выборку на две части.\n",
        "\n",
        "Примечания:\n",
        "\n",
        "\t•\tВ нашей задаче предполагается, что в датасете нет категориальных признаков, поэтому их обработку можно пропустить.\n",
        "\t•\tЧисленные признаки рекомендуется предварительно обработать надлежащим образом.\n",
        "\t•\tВажно тщательно следить за корректностью знаков в расчетах.\n",
        "\t•\tХотя методы обучения без учителя часто уступают supervised-решениям по качеству, это не повод сомневаться в правильности подхода, если вы уверены в своих действиях.\n",
        "\n",
        "Для дальнейшего развития можно рассмотреть возможность параллелизации алгоритма с использованием multiprocessing или joblib, а также добавить функциональность отката к базовому варианту Isolation Forest. Важно обдумать, как эта возможность может быть реализована в рамках модели Extended Isolation Forest."
      ]
    },
    {
      "cell_type": "code",
      "execution_count": null,
      "metadata": {
        "id": "HsFj1XR2s9BW"
      },
      "outputs": [],
      "source": [
        "from joblib import Parallel, delayed\n",
        "def c_factor(n):\n",
        "    \"\"\"\n",
        "    Computes average path length for an unsuccessful search in a binary search tree.\n",
        "    Params:\n",
        "        n: int - number of data points for BST\n",
        "    \"\"\"\n",
        "    if n <= 1:\n",
        "        return 0\n",
        "    return 2 * (np.log(n - 1) + np.euler_gamma) - (2 * (n - 1) / n)\n",
        "\n",
        "\n",
        "def calc_height(X, depth, node):\n",
        "    \"\"\"\n",
        "    Calculates anomaly scores for sample in a recursive manner.\n",
        "    Params:\n",
        "        X: np.array - current sample, available to node\n",
        "\n",
        "        depth: int - path length up to current node\n",
        "\n",
        "        node: Node - current tree node\n",
        "\n",
        "    Returns:\n",
        "        scores: int, float or np.array - anomaly scores for sample\n",
        "    \"\"\"\n",
        "    if node.kind == \"external\":\n",
        "        return depth + c_factor(node.size)\n",
        "\n",
        "    side = np.dot(X, node.w) + node.b <= 0\n",
        "    left_indices = side\n",
        "    right_indices = ~side\n",
        "\n",
        "    scores = np.zeros(X.shape[0])\n",
        "    if node.left:\n",
        "        scores[left_indices] = calc_height(X[left_indices], depth + 1, node.left)\n",
        "    if node.right:\n",
        "        scores[right_indices] = calc_height(X[right_indices], depth + 1, node.right)\n",
        "\n",
        "    return scores\n",
        "\n",
        "\n",
        "class Node(object):\n",
        "    \"\"\"\n",
        "    A single node object for each tree. Contains information on height, current data,\n",
        "    splitting hyperplane and children nodes.\n",
        "\n",
        "    Attributes:\n",
        "        X: np.array - data available to current node\n",
        "        size: int - length of available data\n",
        "\n",
        "        depth: int - depth of node\n",
        "\n",
        "        left: Node - left child\n",
        "        right: Node - right child\n",
        "\n",
        "        kind: str - either \"internal\" or \"external\", indicates the type of current node\n",
        "\n",
        "        w: np.array - normal vector for the splitting hyperplane\n",
        "        b: float - intercept term for the splitting hyperplane\n",
        "    \"\"\"\n",
        "    def __init__(self, X, depth, left=None, right=None, kind=\"external\", w=None, b=None):\n",
        "        \"\"\"\n",
        "        Node(h, left, right, kind, w, b)\n",
        "        Represents the node object.\n",
        "\n",
        "        Params:\n",
        "            X: np.array - data available to current node\n",
        "            depth: int - depth of node\n",
        "\n",
        "            left: Node - left child\n",
        "            right: Node - right child\n",
        "\n",
        "            kind: str - either \"internal\" or \"external\", indicates the type of current node\n",
        "\n",
        "            w: np.array - normal vector for the splitting hyperplane\n",
        "            b: float - intercept term for the splitting hyperplane\n",
        "\n",
        "        \"\"\"\n",
        "        self.size = len(X)\n",
        "        self.depth = depth\n",
        "        self.left = left\n",
        "        self.right = right\n",
        "        self.kind = kind\n",
        "        self.w = w\n",
        "        self.b = b\n",
        "\n",
        "    def __repr__(self):\n",
        "        \"\"\"\n",
        "        For convenience only.\n",
        "        \"\"\"\n",
        "        return f\"Node(size={self.size}, depth={self.depth}, kind={self.kind})\"\n",
        "\n",
        "\n",
        "class RandomizedTree(object):\n",
        "    \"\"\"\n",
        "    Single randomized tree object. Stores root and its depth (tree is built recursively).\n",
        "    Attributes:\n",
        "        depth: int - current tree depth\n",
        "\n",
        "        max_depth: int - maximum tree depth\n",
        "\n",
        "        root: Node - root node\n",
        "\n",
        "        internal_count: int - number of internal nodes\n",
        "\n",
        "        external_count: int - number of external nodes\n",
        "\n",
        "    \"\"\"\n",
        "    def __init__(self, X, max_depth):\n",
        "        \"\"\"\n",
        "        Single randomized tree object. Stores root and its depth (tree is built recursively).\n",
        "        Params:\n",
        "            X: np.array - train sample\n",
        "            max_depth: int - maximum tree depth\n",
        "\n",
        "        \"\"\"\n",
        "        self.depth = 0\n",
        "        self.max_depth = max_depth\n",
        "        self.internal_count = 0\n",
        "        self.external_count = 0\n",
        "        self.root = self.grow(X, 0)\n",
        "\n",
        "    def __repr__(self):\n",
        "        \"\"\"\n",
        "        For convenience only.\n",
        "        \"\"\"\n",
        "        return f\"RandomizedTree(depth={self.depth}, max_depth={self.max_depth}, n_internal={self.internal_count}, n_external={self.external_count})\"\n",
        "\n",
        "    def grow(self, X, depth):\n",
        "        \"\"\"\n",
        "        Grow tree in a recursive manner.\n",
        "        Params:\n",
        "            X: np.array - available train sample\n",
        "\n",
        "            depth: int - current tree depth\n",
        "\n",
        "        Returns:\n",
        "            node: Node - a trained node with separating hyperplane data.\n",
        "                         Node provides access to children if necessary (these are built recursively)\n",
        "        \"\"\"\n",
        "        if depth >= self.max_depth or len(X) <= 1:\n",
        "            self.external_count += 1\n",
        "            return Node(X, depth, kind=\"external\")\n",
        "\n",
        "        self.internal_count += 1\n",
        "\n",
        "        dim = X.shape[1]\n",
        "        w = np.random.normal(size=dim)\n",
        "        w /= np.linalg.norm(w)\n",
        "        b = np.random.uniform(np.min(np.dot(X, w)), np.max(np.dot(X, w)))\n",
        "\n",
        "        left_indices = np.dot(X, w) + b <= 0\n",
        "        right_indices = ~left_indices\n",
        "\n",
        "        left_child = self.grow(X[left_indices], depth + 1)\n",
        "        right_child = self.grow(X[right_indices], depth + 1)\n",
        "\n",
        "        return Node(X, depth, left_child, right_child, kind=\"internal\", w=w, b=b)\n",
        "\n",
        "    def score_samples(self, X):\n",
        "        \"\"\"\n",
        "        Calculate anomaly scores for given data. You may utilize outer function `calc_height`.\n",
        "        Params:\n",
        "            X: np.array - data to be evaluated\n",
        "\n",
        "        Returns:\n",
        "            scores: np.array - estimated anomaly scores\n",
        "        \"\"\"\n",
        "        return calc_height(X, 0, self.root)\n",
        "\n",
        "\n",
        "class ExtendedIsolationForest(object):\n",
        "    \"\"\"\n",
        "    Extended Isolation Forest object. Stores training data and trained randomized trees.\n",
        "    Attributes:\n",
        "        n_trees: int - number of Randomized Trees\n",
        "\n",
        "        max_depth: int - maximum depth of each tree\n",
        "\n",
        "        subsample_rate: float - draw `subsample_rate * X.shape[0]` samples for each tree\n",
        "\n",
        "        trees: list - container for trained trees\n",
        "\n",
        "        contamination: float - estimated fraction of anomaly samples in data. Used for thresholding\n",
        "\n",
        "    \"\"\"\n",
        "\n",
        "    def __init__(self, n_trees, subsample_rate, max_depth=None, contamination=0.01, use_sklearn_if = False, n_jobs = 1):\n",
        "        \"\"\"\n",
        "        Extended Isolation Forest object. Stores training data and trained randomized trees.\n",
        "        Params:\n",
        "            n_trees: int - number of Randomized Trees\n",
        "\n",
        "            subsample_rate: float - draw `subsample_rate * X.shape[0]` samples for each tree\n",
        "\n",
        "            max_depth: int or None - maximum depth of each tree. Defaults to ceil(log_2(subsample_size)) if not provided\n",
        "\n",
        "            contamination: float - estimated fraction of anomaly samples in data. Used for thresholding\n",
        "\n",
        "        \"\"\"\n",
        "        self.n_trees = n_trees\n",
        "        self.max_depth = max_depth\n",
        "        self.subsample_rate = subsample_rate\n",
        "        self.trees = []\n",
        "        self.contamination = contamination\n",
        "        self.use_sklearn_if = use_sklearn_if\n",
        "        self.is_fit = False\n",
        "        self.n_jobs = n_jobs\n",
        "\n",
        "        if self.use_sklearn_if:\n",
        "            self.model = IsolationForest(n_estimators=n_trees, max_samples=subsample_rate, contamination=contamination, n_jobs=n_jobs)\n",
        "\n",
        "\n",
        "    def __repr__(self):\n",
        "        \"\"\"For convenience only.\"\"\"\n",
        "        return f\"ExtendedIsolationForest(n_trees={self.n_trees}, max_depth={self.max_depth}, subsample_rate={self.subsample_rate}, contamination={self.contamination}, is_fit={self.is_fit})\"\n",
        "\n",
        "    def fit(self, X):\n",
        "        \"\"\"\n",
        "        Fit EIF to new data.\n",
        "        Params:\n",
        "            X: np.array - 2d array of samples\n",
        "        \"\"\"\n",
        "        if self.use_sklearn_if:\n",
        "            self.model.fit(X)\n",
        "            self.is_fit = True\n",
        "            return self\n",
        "\n",
        "        n_samples = X.shape[0]\n",
        "        subsample_size = int(self.subsample_rate * n_samples)\n",
        "        self.max_depth = self.max_depth or int(np.ceil(np.log2(subsample_size)))\n",
        "\n",
        "        def build_tree(X_sub):\n",
        "            return RandomizedTree(X_sub, self.max_depth)\n",
        "\n",
        "        self.trees = Parallel(n_jobs=self.n_jobs)(delayed(build_tree)(X[np.random.choice(n_samples, subsample_size, replace=False)]) for _ in range(self.n_trees))\n",
        "\n",
        "        self.is_fit = True\n",
        "        return self\n",
        "\n",
        "    def score_samples(self, X):\n",
        "        \"\"\"\n",
        "        Estimate (normalized) anomaly score for each given sample\n",
        "        Params:\n",
        "            X: np.array - new samples\n",
        "\n",
        "        Returns:\n",
        "            scores: np.array - anomaly scores (larger value means higher probability of a sample being an outlier)\n",
        "        \"\"\"\n",
        "        if self.use_sklearn_if:\n",
        "            return -self.model.decision_function(X)\n",
        "\n",
        "        if not self.is_fit:\n",
        "            raise Exception(\"Model is not fit yet.\")\n",
        "\n",
        "        scores = np.zeros(X.shape[0])\n",
        "        for tree in self.trees:\n",
        "            scores += tree.score_samples(X)\n",
        "\n",
        "        scores /= len(self.trees)\n",
        "        return np.power(2, -scores / c_factor(X.shape[0]))\n",
        "\n",
        "    def predict(self, X):\n",
        "        \"\"\"\n",
        "        Predict if given samples are outliers.\n",
        "        Params:\n",
        "            X: np.array - new samples\n",
        "\n",
        "        Returns:\n",
        "            labels: np.array - anomaly labels (1 for outliers, 0 for inliers)\n",
        "        \"\"\"\n",
        "        scores = self.score_samples(X)\n",
        "        threshold = np.percentile(scores, 100 * (1 - self.contamination))\n",
        "        return (scores >= threshold).astype(int)"
      ]
    },
    {
      "cell_type": "markdown",
      "metadata": {
        "id": "s9ikebErs9BX"
      },
      "source": [
        "**Протестируем и подберем гиперпараметры**"
      ]
    },
    {
      "cell_type": "code",
      "source": [
        "y_train.value_counts()[1] / y_train.value_counts()[0]"
      ],
      "metadata": {
        "colab": {
          "base_uri": "https://localhost:8080/"
        },
        "id": "HRJA3ctTQH6h",
        "outputId": "acb2e95d-3934-4a15-bb31-743530d8342c"
      },
      "execution_count": null,
      "outputs": [
        {
          "output_type": "execute_result",
          "data": {
            "text/plain": [
              "0.0018335473204706544"
            ]
          },
          "metadata": {},
          "execution_count": 56
        }
      ]
    },
    {
      "cell_type": "code",
      "source": [
        "import itertools\n",
        "X_train_np = X_train.values if isinstance(X_train, pd.DataFrame) else X_train\n",
        "# X_test_np = X_test.values if isinstance(X_test, pd.DataFrame) else X_test\n",
        "# X_val_np = X_val.values if isinstance(X_val, pd.DataFrame) else X_val\n",
        "\n",
        "param_grid = {\n",
        "    'n_trees': [100],\n",
        "    'max_depth': [15, 25],\n",
        "    'subsample_rate': [0.075, 0.15],\n",
        "    'contamination': [0.01, 0.05]\n",
        "}\n",
        "\n",
        "best_auc_pr = float('-inf')\n",
        "best_params = None\n",
        "n = len(list(itertools.product(*param_grid.values())))\n",
        "i = 0\n",
        "\n",
        "for n_trees in param_grid['n_trees']:\n",
        "    for max_depth in param_grid['max_depth']:\n",
        "        for subsample_rate in param_grid['subsample_rate']:\n",
        "            for contamination in param_grid['contamination']:\n",
        "                eiforest = ExtendedIsolationForest(n_trees=n_trees, max_depth=max_depth, subsample_rate=subsample_rate, contamination=contamination)\n",
        "                eiforest.fit(X_train_np)\n",
        "\n",
        "                y_pred= eiforest.predict(X_train_np)\n",
        "                auc_pr = average_precision_score(y_train, y_pred)\n",
        "\n",
        "                if auc_pr > best_auc_pr:\n",
        "                    best_auc_pr = auc_pr\n",
        "                    best_params = {'n_trees': n_trees, 'max_depth': max_depth, 'subsample_rate': subsample_rate, 'contamination': contamination}\n",
        "                i += 1\n",
        "                print(f\"{i} / {n}\")\n",
        "\n",
        "print(\"Best AUC-PR:\", best_auc_pr)\n",
        "print(\"Best params:\", best_params)\n"
      ],
      "metadata": {
        "id": "9g_TEyJgLGNw",
        "colab": {
          "base_uri": "https://localhost:8080/"
        },
        "outputId": "d46581d5-df5d-4719-d29c-77770cdbfcef"
      },
      "execution_count": null,
      "outputs": [
        {
          "output_type": "stream",
          "name": "stdout",
          "text": [
            "1 / 8\n",
            "2 / 8\n",
            "3 / 8\n",
            "4 / 8\n",
            "5 / 8\n",
            "6 / 8\n",
            "7 / 8\n",
            "8 / 8\n",
            "Best AUC-PR: 0.0019493324686029288\n",
            "Best params: {'n_trees': 50, 'max_depth': 15, 'subsample_rate': 0.075, 'contamination': 0.01}\n"
          ]
        }
      ]
    },
    {
      "cell_type": "code",
      "execution_count": null,
      "metadata": {
        "id": "7INFCxvKs9BX",
        "colab": {
          "base_uri": "https://localhost:8080/"
        },
        "outputId": "0308d0c3-3e90-4e1d-8819-4ce892dbb1b9"
      },
      "outputs": [
        {
          "output_type": "stream",
          "name": "stdout",
          "text": [
            "AUC-PR for IsolationForest (scikit-learn): 0.000926118912501819\n",
            "AUC-PR for ExtendedIsolationForest: 0.12545174085722227\n",
            "kappa for IsolationForest (scikit-learn): 0.001398042487872897\n",
            "kappa for ExtendedIsolationForest: 0.017259010316484247\n",
            "matthews for IsolationForest (scikit-learn): 0.04578932479355712\n",
            "matthews for ExtendedIsolationForest: 0.08553954013661585\n"
          ]
        }
      ],
      "source": [
        "#your code here\n",
        "from sklearn.ensemble import IsolationForest\n",
        "X_train_np = X_train.values if isinstance(X_train, pd.DataFrame) else X_train\n",
        "\n",
        "iforest_sklearn = IsolationForest(n_estimators=100, contamination=0.15, max_samples=0.3, random_state=42)\n",
        "iforest_sklearn.fit(X_train)\n",
        "y_pred_sklearn = -iforest_sklearn.predict(X_train_np)\n",
        "y_predp_sklearn = iforest_sklearn.score_samples(X_train_np)\n",
        "\n",
        "\n",
        "eiforest = ExtendedIsolationForest(n_trees=100, subsample_rate=0.3, contamination=0.15, max_depth=15)\n",
        "eiforest.fit(X_train_np)\n",
        "\n",
        "y_pred_eiforest = eiforest.predict(X_train_np)\n",
        "y_predp_eiforest = eiforest.score_samples(X_train_np)\n",
        "\n",
        "auc_pr_sklearn = aps(y_train, y_predp_sklearn)\n",
        "auc_pr_eiforest = aps(y_train, y_predp_eiforest)\n",
        "kappa_sklearn = cohen_kappa_score(y_train, y_pred_sklearn)\n",
        "kappa_eiforest = cohen_kappa_score(y_train, y_pred_eiforest)\n",
        "matthews_sklearn =  matthews_corrcoef(y_train, y_pred_sklearn)\n",
        "matthews_eiforest =  matthews_corrcoef(y_train, y_pred_eiforest)\n",
        "\n",
        "print(\"AUC-PR for IsolationForest (scikit-learn):\", auc_pr_sklearn)\n",
        "print(\"AUC-PR for ExtendedIsolationForest:\", auc_pr_eiforest)\n",
        "print(\"kappa for IsolationForest (scikit-learn):\", kappa_sklearn)\n",
        "print(\"kappa for ExtendedIsolationForest:\", kappa_eiforest)\n",
        "print(\"matthews for IsolationForest (scikit-learn):\", matthews_sklearn)\n",
        "print(\"matthews for ExtendedIsolationForest:\", matthews_eiforest)"
      ]
    },
    {
      "cell_type": "markdown",
      "source": [
        "EIF круче получился но не очень все равно\n"
      ],
      "metadata": {
        "id": "EQmBi84DUUMW"
      }
    }
  ],
  "metadata": {
    "colab": {
      "provenance": [],
      "gpuType": "T4"
    },
    "kernelspec": {
      "display_name": "Python 3",
      "name": "python3"
    },
    "language_info": {
      "codemirror_mode": {
        "name": "ipython",
        "version": 3
      },
      "file_extension": ".py",
      "mimetype": "text/x-python",
      "name": "python",
      "nbconvert_exporter": "python",
      "pygments_lexer": "ipython3",
      "version": "3.10.1"
    },
    "accelerator": "GPU"
  },
  "nbformat": 4,
  "nbformat_minor": 0
}